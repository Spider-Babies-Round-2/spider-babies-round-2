{
 "cells": [
  {
   "cell_type": "code",
   "execution_count": 1,
   "metadata": {},
   "outputs": [],
   "source": [
    "from sklearn.neural_network import MLPClassifier as mlpc\n",
    "from sklearn.preprocessing import StandardScaler,QuantileTransformer\n",
    "import numpy as np\n",
    "import matplotlib.pyplot as plt\n",
    "from sklearn.metrics import mean_squared_error, roc_auc_score\n",
    "\n",
    "import mltools as ml"
   ]
  },
  {
   "cell_type": "code",
   "execution_count": 2,
   "metadata": {},
   "outputs": [],
   "source": [
    "X = np.genfromtxt('data/X_train.txt', delimiter=',')\n",
    "Y = np.genfromtxt('data/Y_train.txt', delimiter=',')\n",
    "np.random.seed(0)\n",
    "\n",
    "X,Y = ml.shuffleData(X,Y)\n",
    "X = X[:,:41]"
   ]
  },
  {
   "cell_type": "code",
   "execution_count": 3,
   "metadata": {},
   "outputs": [],
   "source": [
    "Xtr, Xva, Ytr, Yva = ml.splitData(X,Y,0.7)"
   ]
  },
  {
   "cell_type": "markdown",
   "metadata": {},
   "source": [
    "## Comparing Preprocessing methods"
   ]
  },
  {
   "cell_type": "markdown",
   "metadata": {},
   "source": [
    "### Standard Scaler"
   ]
  },
  {
   "cell_type": "code",
   "execution_count": 4,
   "metadata": {},
   "outputs": [],
   "source": [
    "scaler = StandardScaler()\n",
    "Xtr_scaled = scaler.fit_transform(Xtr, Ytr)\n",
    "Xva_scaled = scaler.fit_transform(Xva,Yva)"
   ]
  },
  {
   "cell_type": "code",
   "execution_count": 5,
   "metadata": {},
   "outputs": [
    {
     "data": {
      "text/plain": [
       "MLPClassifier(activation='relu', alpha=0.0001, batch_size='auto', beta_1=0.9,\n",
       "              beta_2=0.999, early_stopping=False, epsilon=1e-08,\n",
       "              hidden_layer_sizes=(100,), learning_rate='constant',\n",
       "              learning_rate_init=0.001, max_iter=1000, momentum=0.9,\n",
       "              n_iter_no_change=10, nesterovs_momentum=True, power_t=0.5,\n",
       "              random_state=None, shuffle=True, solver='adam', tol=0.0001,\n",
       "              validation_fraction=0.1, verbose=False, warm_start=False)"
      ]
     },
     "execution_count": 5,
     "metadata": {},
     "output_type": "execute_result"
    }
   ],
   "source": [
    "learner = mlpc(max_iter=1000)#no weights first.\n",
    "learner.fit(Xtr_scaled,Ytr) #the training"
   ]
  },
  {
   "cell_type": "code",
   "execution_count": 6,
   "metadata": {},
   "outputs": [
    {
     "name": "stdout",
     "output_type": "stream",
     "text": [
      " auc: 0.5508985030326493 | mse: 0.44858554108666365\n"
     ]
    }
   ],
   "source": [
    "Yva_hat = learner.predict(Xva_scaled)\n",
    "\n",
    "print(f\" auc: {roc_auc_score(Yva, Yva_hat)} | mse: {mean_squared_error(Yva, Yva_hat)}\")"
   ]
  },
  {
   "cell_type": "markdown",
   "metadata": {},
   "source": [
    "### Quantile Transformer"
   ]
  },
  {
   "cell_type": "code",
   "execution_count": 7,
   "metadata": {},
   "outputs": [],
   "source": [
    "transformer = QuantileTransformer()\n",
    "Xtr_transformed = transformer.fit_transform(Xtr)\n",
    "Xva_transformed = transformer.fit_transform(Xva)"
   ]
  },
  {
   "cell_type": "code",
   "execution_count": 8,
   "metadata": {},
   "outputs": [
    {
     "data": {
      "text/plain": [
       "MLPClassifier(activation='relu', alpha=0.0001, batch_size='auto', beta_1=0.9,\n",
       "              beta_2=0.999, early_stopping=False, epsilon=1e-08,\n",
       "              hidden_layer_sizes=(100,), learning_rate='constant',\n",
       "              learning_rate_init=0.001, max_iter=1000, momentum=0.9,\n",
       "              n_iter_no_change=10, nesterovs_momentum=True, power_t=0.5,\n",
       "              random_state=None, shuffle=True, solver='adam', tol=0.0001,\n",
       "              validation_fraction=0.1, verbose=False, warm_start=False)"
      ]
     },
     "execution_count": 8,
     "metadata": {},
     "output_type": "execute_result"
    }
   ],
   "source": [
    "learner = mlpc(max_iter=1000)#no weights first.\n",
    "learner.fit(Xtr_transformed,Ytr) #the training"
   ]
  },
  {
   "cell_type": "code",
   "execution_count": 9,
   "metadata": {},
   "outputs": [
    {
     "name": "stdout",
     "output_type": "stream",
     "text": [
      " auc: 0.5968641114982578 | mse: 0.40278401436910644\n"
     ]
    }
   ],
   "source": [
    "Yva_hat = learner.predict(Xva_transformed)\n",
    "\n",
    "print(f\" auc: {roc_auc_score(Yva, Yva_hat)} | mse: {mean_squared_error(Yva, Yva_hat)}\")"
   ]
  },
  {
   "cell_type": "markdown",
   "metadata": {},
   "source": [
    "### Power Transformer\n",
    "this one, idk what it even is but it sounds cool"
   ]
  },
  {
   "cell_type": "code",
   "execution_count": 10,
   "metadata": {},
   "outputs": [],
   "source": [
    "from sklearn.preprocessing import PowerTransformer\n",
    "\n",
    "transformer = PowerTransformer()\n",
    "Xtr_transformed = transformer.fit_transform(Xtr)\n",
    "Xva_transformed = transformer.fit_transform(Xva)"
   ]
  },
  {
   "cell_type": "code",
   "execution_count": 11,
   "metadata": {},
   "outputs": [
    {
     "data": {
      "text/plain": [
       "MLPClassifier(activation='relu', alpha=0.0001, batch_size='auto', beta_1=0.9,\n",
       "              beta_2=0.999, early_stopping=False, epsilon=1e-08,\n",
       "              hidden_layer_sizes=(100,), learning_rate='constant',\n",
       "              learning_rate_init=0.001, max_iter=1000, momentum=0.9,\n",
       "              n_iter_no_change=10, nesterovs_momentum=True, power_t=0.5,\n",
       "              random_state=None, shuffle=True, solver='adam', tol=0.0001,\n",
       "              validation_fraction=0.1, verbose=False, warm_start=False)"
      ]
     },
     "execution_count": 11,
     "metadata": {},
     "output_type": "execute_result"
    }
   ],
   "source": [
    "learner = mlpc(max_iter=1000)#no weights first.\n",
    "learner.fit(Xtr_transformed,Ytr) #the training"
   ]
  },
  {
   "cell_type": "code",
   "execution_count": 12,
   "metadata": {},
   "outputs": [
    {
     "name": "stdout",
     "output_type": "stream",
     "text": [
      " auc: 0.56233183313976 | mse: 0.4373596766951055\n"
     ]
    }
   ],
   "source": [
    "Yva_hat = learner.predict(Xva_transformed)\n",
    "\n",
    "print(f\" auc: {roc_auc_score(Yva, Yva_hat)} | mse: {mean_squared_error(Yva, Yva_hat)}\")"
   ]
  },
  {
   "cell_type": "markdown",
   "metadata": {},
   "source": [
    "### Robust Scaler"
   ]
  },
  {
   "cell_type": "code",
   "execution_count": 13,
   "metadata": {},
   "outputs": [],
   "source": [
    "from sklearn.preprocessing import RobustScaler\n",
    "\n",
    "scaler = RobustScaler()\n",
    "Xtr_scaled = scaler.fit_transform(Xtr, Ytr)\n",
    "Xva_scaled = scaler.fit_transform(Xva,Yva)"
   ]
  },
  {
   "cell_type": "code",
   "execution_count": 14,
   "metadata": {},
   "outputs": [
    {
     "data": {
      "text/plain": [
       "MLPClassifier(activation='relu', alpha=0.0001, batch_size='auto', beta_1=0.9,\n",
       "              beta_2=0.999, early_stopping=False, epsilon=1e-08,\n",
       "              hidden_layer_sizes=(100,), learning_rate='constant',\n",
       "              learning_rate_init=0.001, max_iter=1000, momentum=0.9,\n",
       "              n_iter_no_change=10, nesterovs_momentum=True, power_t=0.5,\n",
       "              random_state=None, shuffle=True, solver='adam', tol=0.0001,\n",
       "              validation_fraction=0.1, verbose=False, warm_start=False)"
      ]
     },
     "execution_count": 14,
     "metadata": {},
     "output_type": "execute_result"
    }
   ],
   "source": [
    "learner = mlpc(max_iter=1000)#no weights first.\n",
    "learner.fit(Xtr_scaled,Ytr) #the training"
   ]
  },
  {
   "cell_type": "code",
   "execution_count": 15,
   "metadata": {},
   "outputs": [
    {
     "name": "stdout",
     "output_type": "stream",
     "text": [
      " auc: 0.5423211866047232 | mse: 0.4575662325999102\n"
     ]
    }
   ],
   "source": [
    "Yva_hat = learner.predict(Xva_scaled)\n",
    "\n",
    "print(f\" auc: {roc_auc_score(Yva, Yva_hat)} | mse: {mean_squared_error(Yva, Yva_hat)}\")"
   ]
  },
  {
   "cell_type": "markdown",
   "metadata": {},
   "source": [
    "### Normalizer"
   ]
  },
  {
   "cell_type": "code",
   "execution_count": 16,
   "metadata": {},
   "outputs": [],
   "source": [
    "from sklearn.preprocessing import Normalizer\n",
    "\n",
    "transformer = Normalizer()\n",
    "Xtr_transformed = transformer.fit_transform(Xtr)\n",
    "Xva_transformed = transformer.fit_transform(Xva)"
   ]
  },
  {
   "cell_type": "code",
   "execution_count": 17,
   "metadata": {},
   "outputs": [
    {
     "data": {
      "text/plain": [
       "MLPClassifier(activation='relu', alpha=0.0001, batch_size='auto', beta_1=0.9,\n",
       "              beta_2=0.999, early_stopping=False, epsilon=1e-08,\n",
       "              hidden_layer_sizes=(100,), learning_rate='constant',\n",
       "              learning_rate_init=0.001, max_iter=1000, momentum=0.9,\n",
       "              n_iter_no_change=10, nesterovs_momentum=True, power_t=0.5,\n",
       "              random_state=None, shuffle=True, solver='adam', tol=0.0001,\n",
       "              validation_fraction=0.1, verbose=False, warm_start=False)"
      ]
     },
     "execution_count": 17,
     "metadata": {},
     "output_type": "execute_result"
    }
   ],
   "source": [
    "learner = mlpc(max_iter=1000)#no weights first.\n",
    "learner.fit(Xtr_transformed,Ytr) #the training"
   ]
  },
  {
   "cell_type": "code",
   "execution_count": 18,
   "metadata": {},
   "outputs": [
    {
     "name": "stdout",
     "output_type": "stream",
     "text": [
      " auc: 0.5349589463156537 | mse: 0.4643017512348451\n"
     ]
    }
   ],
   "source": [
    "Yva_hat = learner.predict(Xva_transformed)\n",
    "\n",
    "print(f\" auc: {roc_auc_score(Yva, Yva_hat)} | mse: {mean_squared_error(Yva, Yva_hat)}\")"
   ]
  },
  {
   "cell_type": "markdown",
   "metadata": {},
   "source": [
    "### Conlusion\n",
    "\n",
    "Without specifying more parameters, it seems like the Quantile Transformer is the best to use for pre-processing!"
   ]
  },
  {
   "cell_type": "markdown",
   "metadata": {},
   "source": [
    "# Quantile Transformer Parameter Testing"
   ]
  },
  {
   "cell_type": "code",
   "execution_count": 36,
   "metadata": {},
   "outputs": [
    {
     "name": "stdout",
     "output_type": "stream",
     "text": [
      "n= 500 auc: 0.6028669021809265 | mse: 0.3969465648854962\n",
      "n= 600 auc: 0.5957135598141695 | mse: 0.4041311180960934\n",
      "n= 700 auc: 0.5998257839721255 | mse: 0.40008980691513246\n",
      "n= 800 auc: 0.6023313492063492 | mse: 0.3973955994611585\n",
      "n= 900 auc: 0.5916799748354625 | mse: 0.4081724292770543\n",
      "n= 1000 auc: 0.6027297877145439 | mse: 0.3973955994611585\n",
      "n= 1100 auc: 0.5973157826816362 | mse: 0.40233497979344407\n",
      "n= 1200 auc: 0.6050885598141695 | mse: 0.39470139200718457\n"
     ]
    }
   ],
   "source": [
    "n_quantiles_testing = [500, 600, 700, 800, 900, 1000, 1100, 1200]\n",
    "\n",
    "for index, num in enumerate(n_quantiles_testing):\n",
    "    transformer = QuantileTransformer(n_quantiles=num)\n",
    "    Xtr_transformed = transformer.fit_transform(Xtr)\n",
    "    Xva_transformed = transformer.fit_transform(Xva)\n",
    "    \n",
    "    learner = mlpc(max_iter=1000)#no weights first.\n",
    "    learner.fit(Xtr_transformed,Ytr) #the training\n",
    "    \n",
    "    Yva_hat = learner.predict(Xva_transformed)\n",
    "\n",
    "    print(f\"n= {num} auc: {roc_auc_score(Yva, Yva_hat)} | mse: {mean_squared_error(Yva, Yva_hat)}\")"
   ]
  },
  {
   "cell_type": "code",
   "execution_count": 37,
   "metadata": {},
   "outputs": [
    {
     "name": "stdout",
     "output_type": "stream",
     "text": [
      "n= 710 auc: 0.5878508517228029 | mse: 0.4122137404580153\n",
      "n= 720 auc: 0.5884343947606142 | mse: 0.4113156713066906\n",
      "n= 730 auc: 0.5992640179377985 | mse: 0.4005388414907948\n",
      "n= 740 auc: 0.6066750548457865 | mse: 0.3929052537045353\n",
      "n= 750 auc: 0.5897640018066849 | mse: 0.4095195330040413\n",
      "n= 760 auc: 0.5902777777777778 | mse: 0.4095195330040413\n",
      "n= 770 auc: 0.5942424022454511 | mse: 0.4059272563987427\n",
      "n= 780 auc: 0.5970939798683702 | mse: 0.40323304894476875\n",
      "n= 790 auc: 0.6027455155503936 | mse: 0.3973955994611585\n"
     ]
    }
   ],
   "source": [
    "# Increasing n-quantiles might be overfitting?\n",
    "# Decreasing n-quantiles reduces AUC\n",
    "n_quantiles_testing = [710, 720, 730, 740, 750, 760, 770, 780, 790]\n",
    "\n",
    "for index, num in enumerate(n_quantiles_testing):\n",
    "    transformer = QuantileTransformer(n_quantiles=num)\n",
    "    Xtr_transformed = transformer.fit_transform(Xtr)\n",
    "    Xva_transformed = transformer.fit_transform(Xva)\n",
    "    \n",
    "    learner = mlpc(max_iter=1000)#no weights first.\n",
    "    learner.fit(Xtr_transformed,Ytr) #the training\n",
    "    \n",
    "    Yva_hat = learner.predict(Xva_transformed)\n",
    "\n",
    "    print(f\"n= {num} auc: {roc_auc_score(Yva, Yva_hat)} | mse: {mean_squared_error(Yva, Yva_hat)}\")"
   ]
  },
  {
   "cell_type": "code",
   "execution_count": null,
   "metadata": {},
   "outputs": [],
   "source": []
  }
 ],
 "metadata": {
  "kernelspec": {
   "display_name": "Python 3",
   "language": "python",
   "name": "python3"
  },
  "language_info": {
   "codemirror_mode": {
    "name": "ipython",
    "version": 3
   },
   "file_extension": ".py",
   "mimetype": "text/x-python",
   "name": "python",
   "nbconvert_exporter": "python",
   "pygments_lexer": "ipython3",
   "version": "3.7.4"
  }
 },
 "nbformat": 4,
 "nbformat_minor": 4
}
