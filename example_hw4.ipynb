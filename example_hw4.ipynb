{
 "cells": [
  {
   "cell_type": "markdown",
   "metadata": {},
   "source": [
    "# Problem 1"
   ]
  },
  {
   "cell_type": "markdown",
   "metadata": {},
   "source": [
    "## Problem 1: Part 1"
   ]
  },
  {
   "cell_type": "code",
   "execution_count": 2,
   "metadata": {},
   "outputs": [
    {
     "name": "stdout",
     "output_type": "stream",
     "text": [
      "entropy = 0.6730116670092565\n"
     ]
    }
   ],
   "source": [
    "import numpy as np\n",
    "import math\n",
    "\n",
    "\n",
    "y = np.array([-1,-1,-1,-1,-1,1,1,1,1,-1])\n",
    "\n",
    "features = {\n",
    "    \"know author\": np.array([0,1,0,1,0,1,0,1,1,1]),\n",
    "    \"is long\": np.array([0,1,1,1,1,0,0,0,0,1]),\n",
    "    \"has research\": np.array([1,0,1,1,0,1,1,0,1,1]),\n",
    "    \"has grade\": np.array([1,1,1,1,0,1,0,0,1,1]),\n",
    "    \"has lottery\": np.array([0,0,1,0,0,1,0,0,0,1])\n",
    "}\n",
    "\n",
    "\n",
    "# Create a 2D array for all the data\n",
    "email_data = np.zeros((len(features[\"know author\"]),len(features)+1))\n",
    "\n",
    "# populate feature data\n",
    "email_data[:,0] = features[\"know author\"]\n",
    "email_data[:,1] = features[\"is long\"]    \n",
    "email_data[:,2] = features[\"has research\"]\n",
    "email_data[:,3] = features[\"has grade\"]\n",
    "email_data[:,4] = features[\"has lottery\"]\n",
    "\n",
    "# populate class data\n",
    "email_data[:,-1] = y\n",
    "\n",
    "\n",
    "assert len(y) == 10\n",
    "\n",
    "\n",
    "p_read = np.count_nonzero(y == 1) / len(y)\n",
    "p_not_read = np.count_nonzero(y== -1) / len(y)\n",
    "\n",
    "entropy_y = - p_read * np.log(p_read) - p_not_read * np.log(p_not_read)\n",
    "\n",
    "print(f\"entropy = {entropy_y}\")"
   ]
  },
  {
   "cell_type": "markdown",
   "metadata": {},
   "source": [
    "## Problem 1 - Part 2"
   ]
  },
  {
   "cell_type": "code",
   "execution_count": 3,
   "metadata": {},
   "outputs": [],
   "source": [
    "from utils.infogains import InfoGains"
   ]
  },
  {
   "cell_type": "code",
   "execution_count": 4,
   "metadata": {},
   "outputs": [
    {
     "name": "stdout",
     "output_type": "stream",
     "text": [
      "Info gain for feature 1 = 0.0464393446710154\n",
      "Info gain for feature 2 = 0.6099865470109874\n",
      "Info gain for feature 3 = 0.0058021490143456145\n",
      "Info gain for feature 4 = 0.0912774462416801\n",
      "Info gain for feature 5 = 0.0058021490143456145\n"
     ]
    }
   ],
   "source": [
    "import mltools as ml\n",
    "my_gains = InfoGains(email_data[:,:-1], email_data[:,-1])\n",
    "\n",
    "info_gains = my_gains.calc_all_info_gain()\n",
    "\n",
    "for index,info_gain in enumerate(info_gains):\n",
    "    print(f\"Info gain for feature {index+1} = {info_gain}\")\n",
    "    \n",
    "\n",
    "\n"
   ]
  },
  {
   "cell_type": "markdown",
   "metadata": {},
   "source": [
    "Split on feature 2 -- highest info gain."
   ]
  },
  {
   "cell_type": "markdown",
   "metadata": {},
   "source": [
    "## Problem 1 - Part 3"
   ]
  },
  {
   "cell_type": "code",
   "execution_count": 5,
   "metadata": {},
   "outputs": [
    {
     "name": "stdout",
     "output_type": "stream",
     "text": [
      "  if x[1] < 0.500000:\n",
      "    if x[0] < 0.500000:\n",
      "      if x[3] < 0.500000:\n",
      "        Predict [0.25 0.75]\n",
      "      else:\n",
      "        Predict [0.75 0.25]\n",
      "    else:\n",
      "      Predict [0.125 0.875]\n",
      "  else:\n",
      "    Predict [0.91666667 0.08333333]\n",
      "\n"
     ]
    }
   ],
   "source": [
    "learner = ml.dtree.treeClassify(email_data[:,:-1], email_data[:,-1], maxDepth=50)\n",
    "\n",
    "print(learner.str_long())"
   ]
  },
  {
   "cell_type": "markdown",
   "metadata": {},
   "source": [
    "Explanation: Each split is fairly accurate (due to not a lot of data). This is why we see a shallow depth and, more noticeable, else statements that do not contain another split."
   ]
  },
  {
   "cell_type": "markdown",
   "metadata": {},
   "source": [
    "# Problem 2"
   ]
  },
  {
   "cell_type": "markdown",
   "metadata": {},
   "source": [
    "## Problem 2 - Part 1"
   ]
  },
  {
   "cell_type": "code",
   "execution_count": 227,
   "metadata": {},
   "outputs": [
    {
     "name": "stdout",
     "output_type": "stream",
     "text": [
      "Mean for feature 1 = 174.32655260676276\n",
      "Minimum for feature 1 = 0.0\n",
      "Maximum for feature 1 = 361.0\n",
      "Variance for feature 1 = 11400.577183952742\n",
      "Mean for feature 2 = 21.19479994611343\n",
      "Minimum for feature 2 = 0.0\n",
      "Maximum for feature 2 = 50.0\n",
      "Variance for feature 2 = 103.20764101817595\n",
      "Mean for feature 3 = 21.552741479186313\n",
      "Minimum for feature 3 = 0.0\n",
      "Maximum for feature 3 = 22.0\n",
      "Variance for feature 3 = 6.145642154236639\n",
      "Mean for feature 4 = 0.02626970227670753\n",
      "Minimum for feature 4 = 0.0\n",
      "Maximum for feature 4 = 3.0\n",
      "Variance for feature 4 = 0.07731071104082472\n",
      "Mean for feature 5 = 103.46275090933585\n",
      "Minimum for feature 5 = 0.0\n",
      "Maximum for feature 5 = 225.0\n",
      "Variance for feature 5 = 5086.604533291988\n",
      "Mean for feature 6 = 2202.6376128250035\n",
      "Minimum for feature 6 = 5.0\n",
      "Maximum for feature 6 = 4290.0\n",
      "Variance for feature 6 = 1449485.503594032\n",
      "Mean for feature 7 = 2482.7142664690828\n",
      "Minimum for feature 7 = 0.0\n",
      "Maximum for feature 7 = 5072.0\n",
      "Variance for feature 7 = 1928110.9695485895\n",
      "Mean for feature 8 = 2869.0150882392563\n",
      "Minimum for feature 8 = 1.0\n",
      "Maximum for feature 8 = 5711.0\n",
      "Variance for feature 8 = 2675277.637924036\n",
      "Mean for feature 9 = 1.1558669001751314\n",
      "Minimum for feature 9 = 0.0\n",
      "Maximum for feature 9 = 4.0\n",
      "Variance for feature 9 = 0.26574996584903315\n",
      "Mean for feature 10 = 52.36696753334231\n",
      "Minimum for feature 10 = 0.0\n",
      "Maximum for feature 10 = 99.0\n",
      "Variance for feature 10 = 856.8021528275866\n",
      "Mean for feature 11 = 1.7963087700390679\n",
      "Minimum for feature 11 = 0.0\n",
      "Maximum for feature 11 = 3.0\n",
      "Variance for feature 11 = 0.44025580766523914\n",
      "Mean for feature 12 = 10.835107099555437\n",
      "Minimum for feature 12 = 0.0\n",
      "Maximum for feature 12 = 21.0\n",
      "Variance for feature 12 = 44.72830002557671\n",
      "Mean for feature 13 = 8.667519870672235\n",
      "Minimum for feature 13 = 0.0\n",
      "Maximum for feature 13 = 13.0\n",
      "Variance for feature 13 = 5.315295573328719\n",
      "Mean for feature 14 = 1.075306479859895\n",
      "Minimum for feature 14 = 0.0\n",
      "Maximum for feature 14 = 2.0\n",
      "Variance for feature 14 = 0.07556293651600683\n",
      "Mean for feature 15 = 4.8970766536440795\n",
      "Minimum for feature 15 = 0.0\n",
      "Maximum for feature 15 = 5.0\n",
      "Variance for feature 15 = 0.2741973007387951\n",
      "Mean for feature 16 = 0.14266469082581168\n",
      "Minimum for feature 16 = 0.0\n",
      "Maximum for feature 16 = 1.0\n",
      "Variance for feature 16 = 0.12231147681738722\n",
      "Mean for feature 17 = 33.315775293008215\n",
      "Minimum for feature 17 = 2.0\n",
      "Maximum for feature 17 = 79.0\n",
      "Variance for feature 17 = 99.8199949768542\n",
      "Mean for feature 18 = 1025.7056446180788\n",
      "Minimum for feature 18 = 0.0\n",
      "Maximum for feature 18 = 2005.0\n",
      "Variance for feature 18 = 303329.8137994733\n",
      "Mean for feature 19 = 6805.14158695945\n",
      "Minimum for feature 19 = 0.0\n",
      "Maximum for feature 19 = 13990.0\n",
      "Variance for feature 19 = 16930128.395014428\n",
      "Mean for feature 20 = 1.4830930890475549\n",
      "Minimum for feature 20 = 0.0\n",
      "Maximum for feature 20 = 2.0\n",
      "Variance for feature 20 = 0.29551773981886953\n"
     ]
    }
   ],
   "source": [
    "import mltools as ml\n",
    "import numpy as np\n",
    "import matplotlib.pyplot as plt\n",
    "\n",
    "X = np.genfromtxt('data/X_train.txt', delimiter=',')\n",
    "Y = np.genfromtxt('data/Y_train.txt', delimiter=',')\n",
    "X,Y = ml.shuffleData(X,Y)\n",
    "X = X[:,41:69] #only taking first 41, maybe deal with the other values later(categorical, binary)\n",
    "\n",
    "[Xtr, Xva, Ytr, Yva] = ml.splitData(X,Y,0.70) #70% training, 30% validation\n",
    "\n",
    "\n",
    "for feature_index in range(20):\n",
    "    print(f\"Mean for feature {feature_index + 1} = {X[:,feature_index].mean()}\")\n",
    "    print(f\"Minimum for feature {feature_index + 1} = {X[:,feature_index].min()}\")\n",
    "    print(f\"Maximum for feature {feature_index + 1} = {X[:,feature_index].max()}\")\n",
    "    print(f\"Variance for feature {feature_index + 1} = {X[:,feature_index].var()}\")\n"
   ]
  },
  {
   "cell_type": "markdown",
   "metadata": {},
   "source": [
    "## Problem 2 - Part 2"
   ]
  },
  {
   "cell_type": "code",
   "execution_count": 228,
   "metadata": {},
   "outputs": [
    {
     "name": "stdout",
     "output_type": "stream",
     "text": [
      "Training error = 0.2557736720554272\n",
      "Validation error = 0.46519982038616975\n"
     ]
    }
   ],
   "source": [
    "import matplotlib.pyplot as plt\n",
    "\n",
    "def mse(y_true: np.array, y_hat: np.array) -> float:\n",
    "    squared = (y_true - y_hat)**2\n",
    "    # print(squared)\n",
    "    return np.mean(squared)\n",
    "\n",
    "\n",
    "learner = ml.dtree.treeClassify(Xtr, Ytr,  minParent = 50, minLeaf = 5, maxDepth=50)\n",
    "Ytr_hat = learner.predict(Xtr)\n",
    "Yva_hat = learner.predict(Xva)\n",
    "\n",
    "err_train = mse(Ytr, Ytr_hat)\n",
    "err_validate = mse(Yva, Yva_hat)\n",
    "\n",
    "print(f\"Training error = {err_train}\")\n",
    "print(f\"Validation error = {err_validate}\")\n"
   ]
  },
  {
   "cell_type": "markdown",
   "metadata": {},
   "source": [
    "## Problem 2 - Part 3"
   ]
  },
  {
   "cell_type": "code",
   "execution_count": 235,
   "metadata": {},
   "outputs": [],
   "source": [
    "depths = 16\n",
    "\n",
    "training_error_rates = np.zeros(depths)\n",
    "validation_error_rates = np.zeros(depths)\n",
    "\n",
    "for max_depth in range(depths):\n",
    "    learner = ml.dtree.treeClassify(Xtr, Ytr, minParent = 10, maxDepth=max_depth)\n",
    "    #Ytr_hat = learner.predict(Xtr)\n",
    "    #Yva_hat = learner.predict(Xva)\n",
    "\n",
    "    err_train = learner.auc(Xtr,Ytr) #mse(Ytr, Ytr_hat)\n",
    "    err_validate = learner.auc(Xva, Yva) #mse(Yva, Yva_hat)\n",
    "    \n",
    "    # save error rates\n",
    "    training_error_rates[max_depth] = err_train\n",
    "    validation_error_rates[max_depth] = err_validate\n",
    "\n",
    "    # print(f\"Training error = {err_train}\")\n",
    "    # print(f\"Validation error = {err_validate}\")\n",
    "\n"
   ]
  },
  {
   "cell_type": "code",
   "execution_count": 236,
   "metadata": {},
   "outputs": [
    {
     "data": {
      "image/png": "[encoded data removed]",
      "text/plain": [
       "<Figure size 432x288 with 1 Axes>"
      ]
     },
     "metadata": {
      "needs_background": "light"
     },
     "output_type": "display_data"
    }
   ],
   "source": [
    "fig, ax = plt.subplots(1,1)\n",
    "\n",
    "\n",
    "depths_arr = np.arange(0, depths)\n",
    "ax.plot(depths_arr, training_error_rates, \"g-\", lw=3, label = \"Training\")\n",
    "ax.plot(depths_arr, validation_error_rates, \"r-\", lw=3, label = \"Validation\")\n",
    "\n",
    "plt.legend()\n",
    "plt.show()"
   ]
  },
  {
   "cell_type": "markdown",
   "metadata": {},
   "source": [
    "Higher max depth means higher complexity. The best max depth is 7 according to this graph"
   ]
  },
  {
   "cell_type": "markdown",
   "metadata": {},
   "source": [
    "## Problem 2 - Part 4"
   ]
  },
  {
   "cell_type": "code",
   "execution_count": 251,
   "metadata": {},
   "outputs": [],
   "source": [
    "\n",
    "min_parents = np.logspace(0,13,num=13,base=2,dtype='int')\n",
    "min_parents_training_error_rates = np.zeros(len(min_parents))\n",
    "min_parents_validation_error_rates = np.zeros(len(min_parents))\n",
    "\n",
    "\n",
    "\n",
    "\n",
    "for index,min_parent in enumerate(min_parents):\n",
    "    learner = ml.dtree.treeClassify(Xtr, Ytr, minParent=min_parent, minLeaf=30, maxDepth=100)\n",
    "    #Ytr_hat = learner.predict(Xtr)\n",
    "    #Yva_hat = learner.predict(Xva)\n",
    "\n",
    "    err_train = learner.auc(Xtr,Ytr) #mse(Ytr, Ytr_hat)\n",
    "    err_validate = learner.auc(Xva, Yva) #mse(Yva, Yva_hat)\n",
    "    \n",
    "    # save error rates\n",
    "    min_parents_training_error_rates[index] = err_train\n",
    "    min_parents_validation_error_rates[index] = err_validate\n",
    "    \n",
    "    #print(err_validate)\n",
    "\n"
   ]
  },
  {
   "cell_type": "code",
   "execution_count": 252,
   "metadata": {},
   "outputs": [
    {
     "name": "stdout",
     "output_type": "stream",
     "text": [
      "[0.57060864 0.57074059 0.57133496 0.57060864 0.57133496 0.57060864\n",
      " 0.57464858 0.59782016 0.60960952 0.61666247 0.60153568 0.59416718\n",
      " 0.5       ]\n"
     ]
    },
    {
     "data": {
      "image/png": "[encoded data removed]",
      "text/plain": [
       "<Figure size 432x288 with 1 Axes>"
      ]
     },
     "metadata": {
      "needs_background": "light"
     },
     "output_type": "display_data"
    }
   ],
   "source": [
    "\n",
    "print(min_parents_validation_error_rates)\n",
    "fig, ax = plt.subplots(1,1)\n",
    "\n",
    "\n",
    "ax.semilogx(min_parents, min_parents_training_error_rates, \"g-\", lw=3, label = \"Training\")\n",
    "ax.semilogx(min_parents, min_parents_validation_error_rates, \"r-\", lw=3, label = \"Validation\")\n",
    "\n",
    "plt.legend()\n",
    "plt.show()"
   ]
  },
  {
   "cell_type": "markdown",
   "metadata": {},
   "source": [
    "Higher `minParent` yields lower complexity because more data is \"grouped\" together due to a higher number of data required to split nodes. The best `minParent` is around 700.  "
   ]
  },
  {
   "cell_type": "markdown",
   "metadata": {},
   "source": [
    "## Problem 2 - Part 5"
   ]
  },
  {
   "cell_type": "code",
   "execution_count": 255,
   "metadata": {},
   "outputs": [],
   "source": [
    "min_leaves = np.logspace(0,13,num=13,base=2,dtype='int')\n",
    "min_leaves_training_error_rates = np.zeros(len(min_leaves))\n",
    "min_leaves_validation_error_rates = np.zeros(len(min_leaves))\n",
    "\n",
    "\n",
    "\n",
    "\n",
    "for index,min_leaf in enumerate(min_leaves):\n",
    "    learner = ml.dtree.treeClassify(Xtr, Ytr, minParent = 10, minLeaf=min_leaf, maxDepth=100)\n",
    "    #Ytr_hat = learner.predict(Xtr)\n",
    "    #Yva_hat = learner.predict(Xva)\n",
    "\n",
    "    err_train = learner.auc(Xtr,Ytr) #mse(Ytr, Ytr_hat)\n",
    "    err_validate = learner.auc(Xva, Yva) #mse(Yva, Yva_hat)\n",
    "    \n",
    "    # save error rates\n",
    "    min_leaves_training_error_rates[index] = err_train\n",
    "    min_leaves_validation_error_rates[index] = err_validate\n",
    "\n",
    "\n",
    "\n"
   ]
  },
  {
   "cell_type": "code",
   "execution_count": 256,
   "metadata": {},
   "outputs": [
    {
     "data": {
      "image/png": "[encoded data removed]",
      "text/plain": [
       "<Figure size 432x288 with 1 Axes>"
      ]
     },
     "metadata": {
      "needs_background": "light"
     },
     "output_type": "display_data"
    }
   ],
   "source": [
    "fig, ax = plt.subplots(1,1)\n",
    "\n",
    "\n",
    "ax.semilogx(min_leaves, min_leaves_training_error_rates, \"g-\", lw=3, label = \"Training\")\n",
    "ax.semilogx(min_leaves, min_leaves_validation_error_rates, \"r-\", lw=3, label = \"Validation\")\n",
    "\n",
    "plt.legend()\n",
    "plt.show()"
   ]
  },
  {
   "cell_type": "markdown",
   "metadata": {},
   "source": [
    "Complexity control for `minLeaf` appears to be similar to `minParent`. 50 or 500"
   ]
  },
  {
   "cell_type": "markdown",
   "metadata": {},
   "source": [
    "## Problem 2 - Part 6"
   ]
  },
  {
   "cell_type": "code",
   "execution_count": 14,
   "metadata": {},
   "outputs": [],
   "source": [
    "max_depth_learner = ml.dtree.treeClassify(Xtr, Ytr, minParent=1,maxDepth=6)\n",
    "min_parent_learner = ml.dtree.treeClassify(Xtr, Ytr, minParent=406,maxDepth=50)\n",
    "min_leaf_learner = ml.dtree.treeClassify(Xtr, Ytr, minParent=1,minLeaf=90, maxDepth=50)\n",
    "learner = ml.dtree.treeClassify(Xtr, Ytr, minParent=406, minLeaf=90, maxDepth=6)\n",
    "\n",
    "\n",
    "depth_fpr_training,depth_tpr_training,depth_tnr_training = max_depth_learner.roc(Xtr,Ytr)\n",
    "depth_fpr_validation,depth_tpr_validation,depth_tnr_validation = max_depth_learner.roc(Xva,Yva)\n",
    "\n",
    "parent_fpr_training,parent_tpr_training,parent_tnr_training = min_parent_learner.roc(Xtr,Ytr)\n",
    "parent_fpr_validation,parent_tpr_validation,parent_tnr_validation = min_parent_learner.roc(Xva,Yva)\n",
    "\n",
    "leaf_fpr_training,leaf_tpr_training,leaf_tnr_training = min_leaf_learner.roc(Xtr,Ytr)\n",
    "leaf_fpr_validation,leaf_tpr_validation,leaf_tnr_validation = min_leaf_learner.roc(Xva,Yva)\n",
    "\n",
    "fpr_training,tpr_training,tnr_training = learner.roc(Xtr,Ytr)\n",
    "fpr_validation,tpr_validation,tnr_validation = learner.roc(Xva,Yva)\n"
   ]
  },
  {
   "cell_type": "code",
   "execution_count": 15,
   "metadata": {},
   "outputs": [
    {
     "data": {
      "image/png": "[encoded data removed]",
      "text/plain": [
       "<Figure size 432x288 with 1 Axes>"
      ]
     },
     "metadata": {
      "needs_background": "light"
     },
     "output_type": "display_data"
    },
    {
     "name": "stdout",
     "output_type": "stream",
     "text": [
      "max depth auc training 0.7595318807456648\n",
      "max depth auc validation 0.6826305897526769\n",
      "min parent auc training 0.7475297125483692\n",
      "min parent auc validation 0.6971685945515707\n",
      "min leaf auc training 0.7582676312647779\n",
      "min leaf auc validation 0.6986374569348663\n",
      "min auc training 0.7195063141342772\n",
      "min auc validation 0.6983657035956845\n"
     ]
    }
   ],
   "source": [
    "\n",
    "fig, ax = plt.subplots(1,1)\n",
    "\n",
    "\n",
    "ax.plot(depth_fpr_training, depth_tpr_training, \"g-\", lw=2, label = \"Max Depth Training\")\n",
    "ax.plot(depth_fpr_validation, depth_tpr_validation, \"r-\", lw=2, label = \"Max Depth Validation\")\n",
    "\n",
    "ax.plot(parent_fpr_training, parent_tpr_training, \"b-\", lw=2, label = \"Min parent Training\")\n",
    "ax.plot(parent_fpr_validation, parent_tpr_validation, \"y-\", lw=2, label = \"Min parent Validation\")\n",
    "\n",
    "\n",
    "ax.plot(leaf_fpr_training, leaf_tpr_training, \"black\", lw=2, label = \"Min leaf Training\")\n",
    "ax.plot(leaf_fpr_validation, leaf_tpr_validation, \"brown\", lw=2, label = \"Min Validation\")\n",
    "\n",
    "ax.plot(fpr_validation, tpr_validation, \"purple\", lw=2, label = \"Min leaf Validation\")\n",
    "\n",
    "plt.legend()\n",
    "plt.show()\n",
    "\n",
    "print(f\"max depth auc training {max_depth_learner.auc(Xtr,Ytr)}\")\n",
    "print(f\"max depth auc validation {max_depth_learner.auc(Xva,Yva)}\")\n",
    "print(f\"min parent auc training {min_parent_learner.auc(Xtr,Ytr)}\")\n",
    "print(f\"min parent auc validation {min_parent_learner.auc(Xva,Yva)}\")\n",
    "print(f\"min leaf auc training {min_leaf_learner.auc(Xtr,Ytr)}\")\n",
    "print(f\"min leaf auc validation {min_leaf_learner.auc(Xva,Yva)}\")\n",
    "print(f\"min auc training {learner.auc(Xtr,Ytr)}\")\n",
    "print(f\"min auc validation {learner.auc(Xva,Yva)}\")\n",
    "\n",
    "#print(f\"min err for maxDepth {depths_arr[validation_error_rates == validation_error_rates.min()]}\")\n",
    "#print(f\"min err for minParent {min_parents[min_parents_validation_error_rates == min_parents_validation_error_rates.min()]}\")\n",
    "#print(f\"min err for minLeaf {min_leaves[min_leaves_validation_error_rates == min_leaves_validation_error_rates.min()]}\")\n",
    "\n",
    "\n"
   ]
  },
  {
   "cell_type": "code",
   "execution_count": null,
   "metadata": {},
   "outputs": [],
   "source": []
  },
  {
   "cell_type": "markdown",
   "metadata": {},
   "source": [
    "## Problem 2 - Part 7"
   ]
  },
  {
   "cell_type": "code",
   "execution_count": 223,
   "metadata": {},
   "outputs": [
    {
     "name": "stdout",
     "output_type": "stream",
     "text": [
      "auc training 0.7313017089329914\n",
      "auc validation 0.7103476507360355\n"
     ]
    }
   ],
   "source": [
    "import mltools as ml\n",
    "import numpy as np\n",
    "import matplotlib.pyplot as plt\n",
    "\n",
    "X = np.genfromtxt('data/X_train.txt', delimiter=',')\n",
    "Y = np.genfromtxt('data/Y_train.txt', delimiter=',')\n",
    "X,Y = ml.shuffleData(X,Y)\n",
    "X = X[:,41:69] #only taking first 41, maybe deal with the other values later(categorical, binary)\n",
    "\n",
    "[Xtr, Xva, Ytr, Yva] = ml.splitData(X,Y,0.70) #70% training, 30% validation\n",
    "\n",
    "final_learner = ml.dtree.treeClassify(Xtr, Ytr, minParent=100, minLeaf=90, maxDepth=7)\n",
    "\n",
    "#fig, ax = plt.subplots(1,1)\n",
    "\n",
    "\n",
    "#ax.plot(depth_fpr_training, depth_tpr_training, \"g-\", lw=2, label = \"Training\")\n",
    "#ax.plot(depth_fpr_validation, depth_tpr_validation, \"r-\", lw=2, label = \"Validation\")\n",
    "\n",
    "#plt.legend()\n",
    "#plt.show()\n",
    "\n",
    "print(f\"auc training {final_learner.auc(Xtr,Ytr)}\")\n",
    "print(f\"auc validation {final_learner.auc(Xva,Yva)}\")"
   ]
  },
  {
   "cell_type": "code",
   "execution_count": 224,
   "metadata": {},
   "outputs": [],
   "source": [
    "\n",
    "\n",
    "Xte = np.genfromtxt('data/X_test.txt', delimiter=',')\n",
    "Yte = np.vstack((np.arange(Xte.shape[0]), final_learner.predictSoft(Xte)[:,1])).T\n",
    "\n",
    "np.savetxt('Y_submit.txt', Yte,'%d, %.2f', header='Id,Predicted', delimiter=',')"
   ]
  },
  {
   "cell_type": "markdown",
   "metadata": {},
   "source": [
    "Performance on Kaggle: 0.70720"
   ]
  },
  {
   "cell_type": "markdown",
   "metadata": {},
   "source": [
    "# Problem 3"
   ]
  },
  {
   "cell_type": "markdown",
   "metadata": {},
   "source": [
    "## Problem 3 - Part 1"
   ]
  },
  {
   "cell_type": "code",
   "execution_count": 4,
   "metadata": {},
   "outputs": [],
   "source": [
    "import mltools as ml\n",
    "import numpy as np\n",
    "import matplotlib.pyplot as plt\n",
    "\n",
    "X = np.genfromtxt('data/X_train.txt', delimiter=',')\n",
    "Y = np.genfromtxt('data/Y_train.txt', delimiter=',')\n",
    "\n",
    "X_numeric = X[:,41]\n",
    "X_discrete = X[:,41:69]\n",
    "X_binary = X[:,69:-1]\n",
    "\n",
    "X,Y = ml.shuffleData(X,Y)\n",
    "\n",
    "\n",
    "\n",
    "Xtr, Xva, Ytr, Yva = ml.splitData(X,Y,0.7)\n"
   ]
  },
  {
   "cell_type": "code",
   "execution_count": 12,
   "metadata": {},
   "outputs": [
    {
     "name": "stdout",
     "output_type": "stream",
     "text": [
      "# of numeric learners = 3\n",
      "# of discrete learners = 1\n",
      "# of binary learners = 1\n",
      "classifier index 0\n",
      "classifier index 1\n",
      "classifier index 2\n",
      "classifier index 3\n",
      "classifier index 4\n",
      "[Thresholds: [-29.00, 250.16 ... 0.00, 0.00], Thresholds: [-29.00, 241.68 ... 0.00, 0.00], Thresholds: [-29.00, 242.24 ... 0.00, 0.00], Thresholds: [-29.00, 251.48 ... 0.00, 0.00], Thresholds: [-29.00, 229.09 ... 0.00, 0.00]]\n",
      "# of numeric learners = 7\n",
      "# of discrete learners = 2\n",
      "# of binary learners = 2\n",
      "classifier index 0\n",
      "classifier index 1\n",
      "classifier index 2\n",
      "classifier index 3\n",
      "classifier index 4\n",
      "classifier index 5\n",
      "classifier index 6\n",
      "classifier index 7\n",
      "classifier index 8\n",
      "classifier index 9\n",
      "classifier index 10\n",
      "[Thresholds: [-29.00, 251.48 ... 0.00, 0.00], Thresholds: [-29.00, 242.04 ... 0.00, 0.00], Thresholds: [-29.00, 241.68 ... 0.00, 0.00], Thresholds: [-29.00, 241.68 ... 0.00, 0.00], Thresholds: [-29.00, 251.48 ... 0.00, 0.00], Thresholds: [-29.00, 250.16 ... 0.00, 0.00], Thresholds: [-29.00, 251.48 ... 0.00, 0.00], Thresholds: [-29.00, 251.48 ... 0.00, 0.00], Thresholds: [-29.00, 251.48 ... 0.00, 0.00], Thresholds: [-29.00, 241.48 ... 0.00, 0.00], Thresholds: [-29.00, 241.68 ... 0.00, 0.00]]\n"
     ]
    }
   ],
   "source": [
    "class BaggedTree(ml.base.classifier):\n",
    "    def __init__(self, learners):\n",
    "        \"\"\"Constructs a BaggedTree class with a set of learners. \"\"\"\n",
    "        self.learners = learners\n",
    "    \n",
    "    def predictSoft(self, X):\n",
    "        \"\"\"Predicts the probabilities with each bagged learner and average over the results. \"\"\"\n",
    "        n_bags = len(self.learners)\n",
    "        preds = [self.learners[l].predictSoft(X) for l in range(n_bags)]\n",
    "        return np.mean(preds, axis=0)\n",
    "\n",
    "bootstrap_sample_size = 50\n",
    "\n",
    "m,n = Xtr.shape\n",
    "\n",
    "bag_numbers = np.array([5,10])\n",
    "\n",
    "#ensemble_predictions = np.zeros(len(bag_numbers))\n",
    "\n",
    "ensemble_training_errors = np.zeros(len(bag_numbers))\n",
    "ensemble_validation_errors = np.zeros(len(bag_numbers))\n",
    "\n",
    "for predictions_index, num_bags in enumerate(bag_numbers):\n",
    "    num_numeric_learners = int(round(num_bags / 1.5))\n",
    "    num_discrete_learners = int(round(num_bags / 5))\n",
    "    num_binary_learners = int(round(num_bags / 5))\n",
    "    \n",
    "    # update num bags based on number of learners \n",
    "    # (only slight deviation based on the algorithm and rounding)\n",
    "    num_bags = num_numeric_learners + num_discrete_learners + num_binary_learners\n",
    "    \n",
    "    print(f\"# of numeric learners = {num_numeric_learners}\")\n",
    "    print(f\"# of discrete learners = {num_discrete_learners}\")\n",
    "    print(f\"# of binary learners = {num_binary_learners}\")\n",
    "    \n",
    "    \n",
    "    classifiers = [None]*num_bags\n",
    "    \n",
    "    # keep track of which number classifier we are on\n",
    "    classifiers_index = 0\n",
    "    \n",
    "    for i in range(num_numeric_learners):\n",
    "        #print(\"classifier index\", classifiers_index)\n",
    "        Xi,Yi = ml.bootstrapData(Xtr, Ytr)\n",
    "        \n",
    "        # insert classifier into list\n",
    "        classifiers[classifiers_index] = ml.dtree.treeClassify(Xi, Yi, minParent=400, minLeaf=100, maxDepth=50)\n",
    "        classifiers_index += 1\n",
    "        \n",
    "    for i in range(num_discrete_learners):\n",
    "        #print(\"classifier index\", classifiers_index)\n",
    "        Xi,Yi = ml.bootstrapData(Xtr, Ytr)\n",
    "        \n",
    "        # insert classifier into list\n",
    "        classifiers[classifiers_index] = ml.dtree.treeClassify(Xi, Yi, minParent=300, minLeaf=100, maxDepth=10)\n",
    "        classifiers_index += 1\n",
    "\n",
    "    for i in range(num_binary_learners):\n",
    "        #print(\"classifier index\", classifiers_index)\n",
    "        Xi,Yi = ml.bootstrapData(Xtr, Ytr)\n",
    "        \n",
    "        # insert classifier into list\n",
    "        classifiers[classifiers_index] = ml.dtree.treeClassify(Xi, Yi, minParent=16, minLeaf=50, maxDepth=10)\n",
    "        classifiers_index += 1\n",
    "        \n",
    "        \n",
    "    print(classifiers)\n",
    "\n",
    "    bagged_tree = BaggedTree(classifiers)\n",
    "    bagged_tree.classes = np.unique(Y)\n",
    "    ensemble_training_errors[predictions_index] = bagged_tree.err(Xtr,Ytr)\n",
    "    ensemble_validation_errors[predictions_index] = bagged_tree.err(Xva,Yva)\n",
    "    \n",
    "\n",
    "    \n"
   ]
  },
  {
   "cell_type": "code",
   "execution_count": 13,
   "metadata": {},
   "outputs": [
    {
     "data": {
      "image/png": "[encoded data removed]",
      "text/plain": [
       "<Figure size 432x288 with 1 Axes>"
      ]
     },
     "metadata": {
      "needs_background": "light"
     },
     "output_type": "display_data"
    }
   ],
   "source": [
    "fig, ax = plt.subplots(1,1)\n",
    "\n",
    "ax.semilogx(bag_numbers, ensemble_training_errors, \"g-\", lw=3, label = \"Training\")\n",
    "ax.semilogx(bag_numbers, ensemble_validation_errors, \"r-\", lw=3, label = \"Validation\")\n",
    "\n",
    "\n",
    "plt.show()"
   ]
  },
  {
   "cell_type": "markdown",
   "metadata": {},
   "source": [
    "## Problem 3 - Part 2"
   ]
  },
  {
   "cell_type": "code",
   "execution_count": 21,
   "metadata": {},
   "outputs": [],
   "source": [
    "Xtr_kaggle = np.genfromtxt('data/X_train.txt', delimiter=',')\n",
    "Ytr_kaggle = np.genfromtxt('data/Y_train.txt', delimiter=',')\n",
    "\n",
    "Xtr_kaggle = Xtr_kaggle[:,:41]\n",
    "\n",
    "Xtr_kaggle,Ytr_kaggle = ml.shuffleData(Xtr_kaggle,Ytr_kaggle)\n",
    "\n",
    "final_num_bags = 50\n",
    "final_classifiers = [None]*final_num_bags\n",
    "\n",
    "for i in range(final_num_bags):\n",
    "    Xi,Yi = ml.bootstrapData(Xtr_kaggle, Ytr_kaggle)\n",
    "    classifiers[i] = ml.dtree.treeClassify(Xi, Yi, minParent=2**6, minLeaf=4, maxDepth=20)\n",
    "\n",
    "\n",
    "kaggle_bagged_tree = BaggedTree(classifiers)\n",
    "kaggle_bagged_tree.classes = np.unique(Ytr_kaggle)\n",
    "\n"
   ]
  },
  {
   "cell_type": "code",
   "execution_count": null,
   "metadata": {},
   "outputs": [],
   "source": [
    "Xte = np.genfromtxt('data/X_test.txt', delimiter=',')\n",
    "Yte_ensemble = np.vstack((np.arange(Xte.shape[0]), kaggle_bagged_tree.predictSoft(Xte)[:,1])).T\n",
    "\n",
    "np.savetxt('Y_submit_ensemble.txt', Yte,'%d, %.2f', header='Id,Predicted', delimiter=',')"
   ]
  },
  {
   "cell_type": "markdown",
   "metadata": {},
   "source": [
    "Performance on Kaggle: 0.69596"
   ]
  },
  {
   "cell_type": "markdown",
   "metadata": {},
   "source": [
    "# Problem 4"
   ]
  },
  {
   "cell_type": "markdown",
   "metadata": {},
   "source": [
    "Talked with Patrick Lee and Corey Tan to better understand how ensembles work, as well as documentation for `dtree`"
   ]
  }
 ],
 "metadata": {
  "kernelspec": {
   "display_name": "Python 3",
   "language": "python",
   "name": "python3"
  },
  "language_info": {
   "codemirror_mode": {
    "name": "ipython",
    "version": 3
   },
   "file_extension": ".py",
   "mimetype": "text/x-python",
   "name": "python",
   "nbconvert_exporter": "python",
   "pygments_lexer": "ipython3",
   "version": "3.7.6"
  }
 },
 "nbformat": 4,
 "nbformat_minor": 4
}
