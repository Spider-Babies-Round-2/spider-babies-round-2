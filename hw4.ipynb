{
 "cells": [
  {
   "cell_type": "markdown",
   "metadata": {},
   "source": [
    "# Problem 1"
   ]
  },
  {
   "cell_type": "markdown",
   "metadata": {},
   "source": [
    "## Problem 1: Part 1"
   ]
  },
  {
   "cell_type": "code",
   "execution_count": 27,
   "metadata": {},
   "outputs": [
    {
     "name": "stdout",
     "output_type": "stream",
     "text": [
      "entropy = 0.6730116670092565\n"
     ]
    }
   ],
   "source": [
    "import numpy as np\n",
    "import math\n",
    "\n",
    "\n",
    "y = np.array([-1,-1,-1,-1,-1,1,1,1,1,-1])\n",
    "\n",
    "features = {\n",
    "    \"know author\": np.array([0,1,0,1,0,1,0,1,1,1]),\n",
    "    \"is long\": np.array([0,1,1,1,1,0,0,0,0,1]),\n",
    "    \"has research\": np.array([1,0,1,1,0,1,1,0,1,1]),\n",
    "    \"has grade\": np.array([1,1,1,1,0,1,0,0,1,1]),\n",
    "    \"has lottery\": np.array([0,0,1,0,0,1,0,0,0,1])\n",
    "}\n",
    "\n",
    "\n",
    "# Create a 2D array for all the data\n",
    "email_data = np.zeros((len(features[\"know author\"]),len(features)+1))\n",
    "\n",
    "# populate feature data\n",
    "email_data[:,0] = features[\"know author\"]\n",
    "email_data[:,1] = features[\"is long\"]    \n",
    "email_data[:,2] = features[\"has research\"]\n",
    "email_data[:,3] = features[\"has grade\"]\n",
    "email_data[:,4] = features[\"has lottery\"]\n",
    "\n",
    "# populate class data\n",
    "email_data[:,-1] = y\n",
    "\n",
    "\n",
    "assert len(y) == 10\n",
    "\n",
    "\n",
    "p_read = np.count_nonzero(y == 1) / len(y)\n",
    "p_not_read = np.count_nonzero(y== -1) / len(y)\n",
    "\n",
    "entropy_y = - p_read * np.log(p_read) - p_not_read * np.log(p_not_read)\n",
    "\n",
    "print(f\"entropy = {entropy_y}\")"
   ]
  },
  {
   "cell_type": "markdown",
   "metadata": {},
   "source": [
    "## Problem 1 - Part 2"
   ]
  },
  {
   "cell_type": "code",
   "execution_count": 28,
   "metadata": {},
   "outputs": [],
   "source": [
    "from utils.infogains import InfoGains"
   ]
  },
  {
   "cell_type": "code",
   "execution_count": 29,
   "metadata": {},
   "outputs": [
    {
     "name": "stdout",
     "output_type": "stream",
     "text": [
      "entropy: 0.8112781244591328\n",
      "entropy: 1.0\n",
      "entropy: 0.7219280948873623\n",
      "entropy: 0.9182958340544896\n",
      "entropy: 0.9852281360342515\n",
      "entropy: 0.9182958340544896\n",
      "entropy: 0.863120568566631\n",
      "entropy: 0.9852281360342515\n",
      "entropy: 0.9182958340544896\n",
      "Info gain for feature 1 = 0.0464393446710154\n",
      "Info gain for feature 2 = 0.6099865470109874\n",
      "Info gain for feature 3 = 0.0058021490143456145\n",
      "Info gain for feature 4 = 0.09127744624168\n",
      "Info gain for feature 5 = 0.0058021490143456145\n"
     ]
    }
   ],
   "source": [
    "import mltools as ml\n",
    "my_gains = InfoGains(email_data)\n",
    "\n",
    "info_gains = my_gains.calc_all_info_gain()\n",
    "\n",
    "for index,info_gain in enumerate(info_gains):\n",
    "    print(f\"Info gain for feature {index+1} = {info_gain}\")\n",
    "    \n",
    "\n",
    "\n"
   ]
  },
  {
   "cell_type": "markdown",
   "metadata": {},
   "source": [
    "Split on feature 2 -- highest info gain."
   ]
  },
  {
   "cell_type": "markdown",
   "metadata": {},
   "source": [
    "## Problem 1 - Part 3"
   ]
  },
  {
   "cell_type": "code",
   "execution_count": 4,
   "metadata": {},
   "outputs": [
    {
     "name": "stdout",
     "output_type": "stream",
     "text": [
      "  if x[1] < 0.500000:\n",
      "    if x[0] < 0.500000:\n",
      "      if x[3] < 0.500000:\n",
      "        Predict [0.25 0.75]\n",
      "      else:\n",
      "        Predict [0.75 0.25]\n",
      "    else:\n",
      "      Predict [0.125 0.875]\n",
      "  else:\n",
      "    Predict [0.91666667 0.08333333]\n",
      "\n"
     ]
    }
   ],
   "source": [
    "learner = ml.dtree.treeClassify(email_data[:,:-1], email_data[:,-1], maxDepth=50)\n",
    "\n",
    "print(learner.str_long())"
   ]
  },
  {
   "cell_type": "markdown",
   "metadata": {},
   "source": [
    "Explanation: Each split is fairly accurate (due to not a lot of data). This is why we see a shallow depth and, more noticeable, else statements that do not contain another split."
   ]
  },
  {
   "cell_type": "markdown",
   "metadata": {},
   "source": [
    "# Problem 2"
   ]
  },
  {
   "cell_type": "markdown",
   "metadata": {},
   "source": [
    "## Problem 2 - Part 1"
   ]
  },
  {
   "cell_type": "code",
   "execution_count": 5,
   "metadata": {},
   "outputs": [
    {
     "name": "stdout",
     "output_type": "stream",
     "text": [
      "Mean for feature 1 = 1321.117413444699\n",
      "Minimum for feature 1 = 0.0\n",
      "Maximum for feature 1 = 110285.0\n",
      "Variance for feature 1 = 6747189.595085322\n",
      "Mean for feature 2 = 6.5916745251246125\n",
      "Minimum for feature 2 = 0.0\n",
      "Maximum for feature 2 = 35.0\n",
      "Variance for feature 2 = 34.70690630279573\n",
      "Mean for feature 3 = 1152.2732372356188\n",
      "Minimum for feature 3 = 0.0\n",
      "Maximum for feature 3 = 51536.0\n",
      "Variance for feature 3 = 5376518.288798101\n",
      "Mean for feature 4 = 234.8262548834703\n",
      "Minimum for feature 4 = 0.0\n",
      "Maximum for feature 4 = 21768.0\n",
      "Variance for feature 4 = 260120.83053297663\n",
      "Mean for feature 5 = 289.75871211100633\n",
      "Minimum for feature 5 = 0.0\n",
      "Maximum for feature 5 = 27210.0\n",
      "Variance for feature 5 = 406615.8651128233\n"
     ]
    }
   ],
   "source": [
    "import mltools as ml\n",
    "\n",
    "X = np.genfromtxt('data/X_train.txt', delimiter=',')\n",
    "Y = np.genfromtxt('data/Y_train.txt', delimiter=',')\n",
    "\n",
    "X,Y = ml.shuffleData(X,Y)\n",
    "\n",
    "X = X[:,:41]\n",
    "\n",
    "\n",
    "for feature_index in range(5):\n",
    "    print(f\"Mean for feature {feature_index + 1} = {X[:,feature_index].mean()}\")\n",
    "    print(f\"Minimum for feature {feature_index + 1} = {X[:,feature_index].min()}\")\n",
    "    print(f\"Maximum for feature {feature_index + 1} = {X[:,feature_index].max()}\")\n",
    "    print(f\"Variance for feature {feature_index + 1} = {X[:,feature_index].var()}\")\n"
   ]
  },
  {
   "cell_type": "markdown",
   "metadata": {},
   "source": [
    "## Problem 2 - Part 2"
   ]
  },
  {
   "cell_type": "code",
   "execution_count": 6,
   "metadata": {},
   "outputs": [
    {
     "name": "stdout",
     "output_type": "stream",
     "text": [
      "Training error = 0.0\n",
      "Validation error = 0.38884397736459175\n"
     ]
    }
   ],
   "source": [
    "import matplotlib.pyplot as plt\n",
    "\n",
    "def mse(y_true: np.array, y_hat: np.array) -> float:\n",
    "    squared = (y_true - y_hat)**2\n",
    "    # print(squared)\n",
    "    return np.mean(squared)\n",
    "\n",
    "Xtr, Xva, Ytr, Yva = ml.splitData(X,Y,0.5)\n",
    "\n",
    "learner = ml.dtree.treeClassify(Xtr, Ytr, maxDepth=50)\n",
    "Ytr_hat = learner.predict(Xtr)\n",
    "Yva_hat = learner.predict(Xva)\n",
    "\n",
    "err_train = mse(Ytr, Ytr_hat)\n",
    "err_validate = mse(Yva, Yva_hat)\n",
    "\n",
    "print(f\"Training error = {err_train}\")\n",
    "print(f\"Validation error = {err_validate}\")\n"
   ]
  },
  {
   "cell_type": "markdown",
   "metadata": {},
   "source": [
    "## Problem 2 - Part 3"
   ]
  },
  {
   "cell_type": "code",
   "execution_count": 7,
   "metadata": {},
   "outputs": [],
   "source": [
    "depths = 16\n",
    "\n",
    "training_error_rates = np.zeros(depths)\n",
    "validation_error_rates = np.zeros(depths)\n",
    "\n",
    "for max_depth in range(depths):\n",
    "    learner = ml.dtree.treeClassify(Xtr, Ytr, maxDepth=max_depth)\n",
    "    Ytr_hat = learner.predict(Xtr)\n",
    "    Yva_hat = learner.predict(Xva)\n",
    "\n",
    "    err_train = mse(Ytr, Ytr_hat)\n",
    "    err_validate = mse(Yva, Yva_hat)\n",
    "    \n",
    "    # save error rates\n",
    "    training_error_rates[max_depth] = err_train\n",
    "    validation_error_rates[max_depth] = err_validate\n",
    "\n",
    "    # print(f\"Training error = {err_train}\")\n",
    "    # print(f\"Validation error = {err_validate}\")\n",
    "\n"
   ]
  },
  {
   "cell_type": "code",
   "execution_count": 8,
   "metadata": {},
   "outputs": [
    {
     "data": {
      "image/png": "[encoded data removed]",
      "text/plain": [
       "<Figure size 432x288 with 1 Axes>"
      ]
     },
     "metadata": {
      "needs_background": "light"
     },
     "output_type": "display_data"
    }
   ],
   "source": [
    "fig, ax = plt.subplots(1,1)\n",
    "\n",
    "\n",
    "depths_arr = np.arange(0, depths)\n",
    "ax.plot(depths_arr, training_error_rates, \"g-\", lw=3, label = \"Training\")\n",
    "ax.plot(depths_arr, validation_error_rates, \"r-\", lw=3, label = \"Validation\")\n",
    "\n",
    "plt.legend()\n",
    "plt.show()"
   ]
  },
  {
   "cell_type": "markdown",
   "metadata": {},
   "source": [
    "Higher max depth means higher complexity. The best max depth is 5 according to this graph"
   ]
  },
  {
   "cell_type": "markdown",
   "metadata": {},
   "source": [
    "## Problem 2 - Part 4"
   ]
  },
  {
   "cell_type": "code",
   "execution_count": 9,
   "metadata": {},
   "outputs": [],
   "source": [
    "\n",
    "min_parents = np.logspace(0,13,num=13,base=2,dtype='int')\n",
    "min_parents_training_error_rates = np.zeros(len(min_parents))\n",
    "min_parents_validation_error_rates = np.zeros(len(min_parents))\n",
    "\n",
    "\n",
    "\n",
    "\n",
    "for index,min_parent in enumerate(min_parents):\n",
    "    learner = ml.dtree.treeClassify(Xtr, Ytr, minParent=min_parent, maxDepth=50)\n",
    "    Ytr_hat = learner.predict(Xtr)\n",
    "    Yva_hat = learner.predict(Xva)\n",
    "\n",
    "    err_train = mse(Ytr, Ytr_hat)\n",
    "    err_validate = mse(Yva, Yva_hat)\n",
    "    \n",
    "    # save error rates\n",
    "    min_parents_training_error_rates[index] = err_train\n",
    "    min_parents_validation_error_rates[index] = err_validate\n",
    "    \n",
    "    #print(err_validate)\n",
    "\n"
   ]
  },
  {
   "cell_type": "code",
   "execution_count": 10,
   "metadata": {},
   "outputs": [
    {
     "name": "stdout",
     "output_type": "stream",
     "text": [
      "[0.39234708 0.38992185 0.39423336 0.40393425 0.3947723  0.38453247\n",
      " 0.3772568  0.38399353 0.36566963 0.37483158 0.37806521 0.49178119\n",
      " 0.49178119]\n"
     ]
    },
    {
     "data": {
      "image/png": "[encoded data removed]",
      "text/plain": [
       "<Figure size 432x288 with 1 Axes>"
      ]
     },
     "metadata": {
      "needs_background": "light"
     },
     "output_type": "display_data"
    }
   ],
   "source": [
    "\n",
    "print(min_parents_validation_error_rates)\n",
    "fig, ax = plt.subplots(1,1)\n",
    "\n",
    "\n",
    "ax.semilogx(min_parents, min_parents_training_error_rates, \"g-\", lw=3, label = \"Training\")\n",
    "ax.semilogx(min_parents, min_parents_validation_error_rates, \"r-\", lw=3, label = \"Validation\")\n",
    "\n",
    "plt.legend()\n",
    "plt.show()"
   ]
  },
  {
   "cell_type": "markdown",
   "metadata": {},
   "source": [
    "Higher `minParent` yields lower complexity because more data is \"grouped\" together due to a higher number of data required to split nodes. The best `minParent` is around 400.  "
   ]
  },
  {
   "cell_type": "markdown",
   "metadata": {},
   "source": [
    "## Problem 2 - Part 5"
   ]
  },
  {
   "cell_type": "code",
   "execution_count": 11,
   "metadata": {},
   "outputs": [],
   "source": [
    "min_leaves = np.logspace(0,13,num=13,base=2,dtype='int')\n",
    "min_leaves_training_error_rates = np.zeros(len(min_leaves))\n",
    "min_leaves_validation_error_rates = np.zeros(len(min_leaves))\n",
    "\n",
    "\n",
    "\n",
    "\n",
    "for index,min_leaf in enumerate(min_leaves):\n",
    "    learner = ml.dtree.treeClassify(Xtr, Ytr, minLeaf=min_leaf, maxDepth=50)\n",
    "    Ytr_hat = learner.predict(Xtr)\n",
    "    Yva_hat = learner.predict(Xva)\n",
    "\n",
    "    err_train = mse(Ytr, Ytr_hat)\n",
    "    err_validate = mse(Yva, Yva_hat)\n",
    "    \n",
    "    # save error rates\n",
    "    min_leaves_training_error_rates[index] = err_train\n",
    "    min_leaves_validation_error_rates[index] = err_validate\n",
    "\n",
    "\n",
    "\n"
   ]
  },
  {
   "cell_type": "code",
   "execution_count": 12,
   "metadata": {},
   "outputs": [
    {
     "data": {
      "image/png": "[encoded data removed]",
      "text/plain": [
       "<Figure size 432x288 with 1 Axes>"
      ]
     },
     "metadata": {
      "needs_background": "light"
     },
     "output_type": "display_data"
    }
   ],
   "source": [
    "fig, ax = plt.subplots(1,1)\n",
    "\n",
    "\n",
    "ax.semilogx(min_leaves, min_leaves_training_error_rates, \"g-\", lw=3, label = \"Training\")\n",
    "ax.semilogx(min_leaves, min_leaves_validation_error_rates, \"r-\", lw=3, label = \"Validation\")\n",
    "\n",
    "plt.legend()\n",
    "plt.show()"
   ]
  },
  {
   "cell_type": "markdown",
   "metadata": {},
   "source": [
    "Complexity control for `minLeaf` appears to be similar to `minParent`. "
   ]
  },
  {
   "cell_type": "markdown",
   "metadata": {},
   "source": [
    "## Problem 2 - Part 6"
   ]
  },
  {
   "cell_type": "code",
   "execution_count": 13,
   "metadata": {},
   "outputs": [],
   "source": [
    "max_depth_learner = ml.dtree.treeClassify(Xtr, Ytr, minParent=1,maxDepth=6)\n",
    "min_parent_learner = ml.dtree.treeClassify(Xtr, Ytr, minParent=406,maxDepth=50)\n",
    "min_leaf_learner = ml.dtree.treeClassify(Xtr, Ytr, minParent=1,minLeaf=90, maxDepth=50)\n",
    "learner = ml.dtree.treeClassify(Xtr, Ytr, minParent=406, minLeaf=90, maxDepth=6)\n",
    "\n",
    "\n",
    "depth_fpr_training,depth_tpr_training,depth_tnr_training = max_depth_learner.roc(Xtr,Ytr)\n",
    "depth_fpr_validation,depth_tpr_validation,depth_tnr_validation = max_depth_learner.roc(Xva,Yva)\n",
    "\n",
    "parent_fpr_training,parent_tpr_training,parent_tnr_training = min_parent_learner.roc(Xtr,Ytr)\n",
    "parent_fpr_validation,parent_tpr_validation,parent_tnr_validation = min_parent_learner.roc(Xva,Yva)\n",
    "\n",
    "leaf_fpr_training,leaf_tpr_training,leaf_tnr_training = min_leaf_learner.roc(Xtr,Ytr)\n",
    "leaf_fpr_validation,leaf_tpr_validation,leaf_tnr_validation = min_leaf_learner.roc(Xva,Yva)\n",
    "\n",
    "fpr_training,tpr_training,tnr_training = learner.roc(Xtr,Ytr)\n",
    "fpr_validation,tpr_validation,tnr_validation = learner.roc(Xva,Yva)\n"
   ]
  },
  {
   "cell_type": "code",
   "execution_count": 14,
   "metadata": {},
   "outputs": [
    {
     "data": {
      "image/png": "[encoded data removed]",
      "text/plain": [
       "<Figure size 432x288 with 1 Axes>"
      ]
     },
     "metadata": {
      "needs_background": "light"
     },
     "output_type": "display_data"
    },
    {
     "name": "stdout",
     "output_type": "stream",
     "text": [
      "max depth auc training 0.7458140715013138\n",
      "max depth auc validation 0.6962640363747294\n",
      "min parent auc training 0.739186956183469\n",
      "min parent auc validation 0.6866731068144512\n",
      "min leaf auc training 0.7536670057445838\n",
      "min leaf auc validation 0.679132468513488\n",
      "min auc training 0.7204214030161677\n",
      "min auc validation 0.6840154563546826\n"
     ]
    }
   ],
   "source": [
    "\n",
    "fig, ax = plt.subplots(1,1)\n",
    "\n",
    "\n",
    "ax.plot(depth_fpr_training, depth_tpr_training, \"g-\", lw=2, label = \"Max Depth Training\")\n",
    "ax.plot(depth_fpr_validation, depth_tpr_validation, \"r-\", lw=2, label = \"Max Depth Validation\")\n",
    "\n",
    "ax.plot(parent_fpr_training, parent_tpr_training, \"b-\", lw=2, label = \"Min parent Training\")\n",
    "ax.plot(parent_fpr_validation, parent_tpr_validation, \"y-\", lw=2, label = \"Min parent Validation\")\n",
    "\n",
    "\n",
    "ax.plot(leaf_fpr_training, leaf_tpr_training, \"black\", lw=2, label = \"Min leaf Training\")\n",
    "ax.plot(leaf_fpr_validation, leaf_tpr_validation, \"brown\", lw=2, label = \"Min Validation\")\n",
    "\n",
    "ax.plot(fpr_validation, tpr_validation, \"purple\", lw=2, label = \"Min leaf Validation\")\n",
    "\n",
    "plt.legend()\n",
    "plt.show()\n",
    "\n",
    "print(f\"max depth auc training {max_depth_learner.auc(Xtr,Ytr)}\")\n",
    "print(f\"max depth auc validation {max_depth_learner.auc(Xva,Yva)}\")\n",
    "print(f\"min parent auc training {min_parent_learner.auc(Xtr,Ytr)}\")\n",
    "print(f\"min parent auc validation {min_parent_learner.auc(Xva,Yva)}\")\n",
    "print(f\"min leaf auc training {min_leaf_learner.auc(Xtr,Ytr)}\")\n",
    "print(f\"min leaf auc validation {min_leaf_learner.auc(Xva,Yva)}\")\n",
    "print(f\"min auc training {learner.auc(Xtr,Ytr)}\")\n",
    "print(f\"min auc validation {learner.auc(Xva,Yva)}\")\n",
    "\n",
    "#print(f\"min err for maxDepth {depths_arr[validation_error_rates == validation_error_rates.min()]}\")\n",
    "#print(f\"min err for minParent {min_parents[min_parents_validation_error_rates == min_parents_validation_error_rates.min()]}\")\n",
    "#print(f\"min err for minLeaf {min_leaves[min_leaves_validation_error_rates == min_leaves_validation_error_rates.min()]}\")\n",
    "\n",
    "\n"
   ]
  },
  {
   "cell_type": "code",
   "execution_count": null,
   "metadata": {},
   "outputs": [],
   "source": []
  },
  {
   "cell_type": "markdown",
   "metadata": {},
   "source": [
    "## Problem 2 - Part 7"
   ]
  },
  {
   "cell_type": "code",
   "execution_count": 15,
   "metadata": {},
   "outputs": [
    {
     "data": {
      "image/png": "[encoded data removed]",
      "text/plain": [
       "<Figure size 432x288 with 1 Axes>"
      ]
     },
     "metadata": {
      "needs_background": "light"
     },
     "output_type": "display_data"
    },
    {
     "name": "stdout",
     "output_type": "stream",
     "text": [
      "auc training 0.719523920669702\n",
      "auc validation 0.7199156001685092\n"
     ]
    }
   ],
   "source": [
    "Xtr_kaggle = np.genfromtxt('data/X_train.txt', delimiter=',')\n",
    "Ytr_kaggle = np.genfromtxt('data/Y_train.txt', delimiter=',')\n",
    "\n",
    "Xtr_kaggle = Xtr_kaggle[:,:41]\n",
    "\n",
    "Xtr_kaggle,Ytr_kaggle = ml.shuffleData(Xtr_kaggle,Ytr_kaggle)\n",
    "\n",
    "final_learner = ml.dtree.treeClassify(Xtr_kaggle, Ytr_kaggle, minParent=406, minLeaf=90, maxDepth=6)\n",
    "\n",
    "fig, ax = plt.subplots(1,1)\n",
    "\n",
    "\n",
    "ax.plot(depth_fpr_training, depth_tpr_training, \"g-\", lw=2, label = \"Training\")\n",
    "ax.plot(depth_fpr_validation, depth_tpr_validation, \"r-\", lw=2, label = \"Validation\")\n",
    "\n",
    "plt.legend()\n",
    "plt.show()\n",
    "\n",
    "print(f\"auc training {final_learner.auc(Xtr,Ytr)}\")\n",
    "print(f\"auc validation {final_learner.auc(Xva,Yva)}\")"
   ]
  },
  {
   "cell_type": "code",
   "execution_count": 16,
   "metadata": {},
   "outputs": [],
   "source": [
    "\n",
    "\n",
    "Xte = np.genfromtxt('data/X_test.txt', delimiter=',')\n",
    "Yte = np.vstack((np.arange(Xte.shape[0]), final_learner.predictSoft(Xte)[:,1])).T\n",
    "\n",
    "np.savetxt('Y_submit.txt', Yte,'%d, %.2f', header='Id,Predicted', delimiter=',')"
   ]
  },
  {
   "cell_type": "markdown",
   "metadata": {},
   "source": [
    "Performance on Kaggle: 0.70720"
   ]
  },
  {
   "cell_type": "markdown",
   "metadata": {},
   "source": [
    "# Problem 3"
   ]
  },
  {
   "cell_type": "markdown",
   "metadata": {},
   "source": [
    "## Problem 3 - Part 1"
   ]
  },
  {
   "cell_type": "code",
   "execution_count": 17,
   "metadata": {},
   "outputs": [],
   "source": [
    "import mltools as ml\n",
    "\n",
    "X = np.genfromtxt('data/X_train.txt', delimiter=',')\n",
    "Y = np.genfromtxt('data/Y_train.txt', delimiter=',')\n",
    "\n",
    "X,Y = ml.shuffleData(X,Y)\n",
    "\n",
    "X = X[:,:41]\n",
    "\n",
    "Xtr, Xva, Ytr, Yva = ml.splitData(X,Y,0.5)\n"
   ]
  },
  {
   "cell_type": "code",
   "execution_count": 18,
   "metadata": {},
   "outputs": [],
   "source": [
    "class BaggedTree(ml.base.classifier):\n",
    "    def __init__(self, learners):\n",
    "        \"\"\"Constructs a BaggedTree class with a set of learners. \"\"\"\n",
    "        self.learners = learners\n",
    "    \n",
    "    def predictSoft(self, X):\n",
    "        \"\"\"Predicts the probabilities with each bagged learner and average over the results. \"\"\"\n",
    "        n_bags = len(self.learners)\n",
    "        preds = [self.learners[l].predictSoft(X) for l in range(n_bags)]\n",
    "        return np.mean(preds, axis=0)\n",
    "\n",
    "bootstrap_sample_size = 50\n",
    "\n",
    "m,n = Xtr.shape\n",
    "\n",
    "bag_numbers = np.array([1,5,10,25,50,75,125])\n",
    "\n",
    "#ensemble_predictions = np.zeros(len(bag_numbers))\n",
    "\n",
    "ensemble_training_errors = np.zeros(len(bag_numbers))\n",
    "ensemble_validation_errors = np.zeros(len(bag_numbers))\n",
    "\n",
    "for predictions_index, num_bags in enumerate(bag_numbers):\n",
    "    classifiers = [None]*num_bags\n",
    "\n",
    "    for i in range(num_bags):\n",
    "        #index = np.floor(m*np.random.rand(bootstrap_sample_size).astype(int))\n",
    "        #Xi, Yi = Xtr[index:], Ytr[index]\n",
    "        Xi,Yi = ml.bootstrapData(Xtr, Ytr)\n",
    "        classifiers[i] = ml.dtree.treeClassify(Xi, Yi, minParent=10, minLeaf=4, maxDepth=20)\n",
    "\n",
    "\n",
    "    bagged_tree = BaggedTree(classifiers)\n",
    "    bagged_tree.classes = np.unique(Y)\n",
    "    ensemble_training_errors[predictions_index] = bagged_tree.err(Xtr,Ytr)\n",
    "    ensemble_validation_errors[predictions_index] = bagged_tree.err(Xva,Yva)\n",
    "    \n",
    "    #m_test = Xva.shape[0]\n",
    "    #predictions = np.zeros((m_test,num_bags))\n",
    "    #for i in range(num_bags):\n",
    "    #    predictions[:,i]=classifiers[i].predict(Xva)\n",
    "    \n",
    "    \n",
    "    #print(predictions)\n",
    "    #print(np.mean(predictions,axis=1))\n",
    "    #prediction = np.mean(predictions,axis=1) > 0\n",
    "    #print(prediction)\n",
    "    # ensemble_predictions[predictions_index] = prediction\n",
    "    \n",
    "    #print(f\"finished {num_bags}\")\n",
    "    \n"
   ]
  },
  {
   "cell_type": "code",
   "execution_count": 19,
   "metadata": {},
   "outputs": [
    {
     "data": {
      "image/png": "[encoded data removed]",
      "text/plain": [
       "<Figure size 432x288 with 1 Axes>"
      ]
     },
     "metadata": {
      "needs_background": "light"
     },
     "output_type": "display_data"
    }
   ],
   "source": [
    "fig, ax = plt.subplots(1,1)\n",
    "\n",
    "ax.semilogx(bag_numbers, ensemble_training_errors, \"g-\", lw=3, label = \"Training\")\n",
    "ax.semilogx(bag_numbers, ensemble_validation_errors, \"r-\", lw=3, label = \"Validation\")\n",
    "\n",
    "\n",
    "plt.show()"
   ]
  },
  {
   "cell_type": "markdown",
   "metadata": {},
   "source": [
    "## Problem 3 - Part 2"
   ]
  },
  {
   "cell_type": "code",
   "execution_count": 21,
   "metadata": {},
   "outputs": [],
   "source": [
    "Xtr_kaggle = np.genfromtxt('data/X_train.txt', delimiter=',')\n",
    "Ytr_kaggle = np.genfromtxt('data/Y_train.txt', delimiter=',')\n",
    "\n",
    "Xtr_kaggle = Xtr_kaggle[:,:41]\n",
    "\n",
    "Xtr_kaggle,Ytr_kaggle = ml.shuffleData(Xtr_kaggle,Ytr_kaggle)\n",
    "\n",
    "final_num_bags = 50\n",
    "final_classifiers = [None]*final_num_bags\n",
    "\n",
    "for i in range(final_num_bags):\n",
    "    Xi,Yi = ml.bootstrapData(Xtr_kaggle, Ytr_kaggle)\n",
    "    classifiers[i] = ml.dtree.treeClassify(Xi, Yi, minParent=2**6, minLeaf=4, maxDepth=20)\n",
    "\n",
    "\n",
    "kaggle_bagged_tree = BaggedTree(classifiers)\n",
    "kaggle_bagged_tree.classes = np.unique(Ytr_kaggle)\n",
    "\n"
   ]
  },
  {
   "cell_type": "code",
   "execution_count": null,
   "metadata": {},
   "outputs": [],
   "source": [
    "Xte = np.genfromtxt('data/X_test.txt', delimiter=',')\n",
    "Yte_ensemble = np.vstack((np.arange(Xte.shape[0]), kaggle_bagged_tree.predictSoft(Xte)[:,1])).T\n",
    "\n",
    "np.savetxt('Y_submit_ensemble.txt', Yte,'%d, %.2f', header='Id,Predicted', delimiter=',')"
   ]
  },
  {
   "cell_type": "markdown",
   "metadata": {},
   "source": [
    "Performance on Kaggle: 0.69596"
   ]
  },
  {
   "cell_type": "markdown",
   "metadata": {},
   "source": [
    "# Problem 4"
   ]
  },
  {
   "cell_type": "markdown",
   "metadata": {},
   "source": [
    "Talked with Patrick Lee and Corey Tan to better understand how ensembles work, as well as documentation for `dtree`"
   ]
  }
 ],
 "metadata": {
  "kernelspec": {
   "display_name": "Python 3",
   "language": "python",
   "name": "python3"
  },
  "language_info": {
   "codemirror_mode": {
    "name": "ipython",
    "version": 3
   },
   "file_extension": ".py",
   "mimetype": "text/x-python",
   "name": "python",
   "nbconvert_exporter": "python",
   "pygments_lexer": "ipython3",
   "version": "3.7.6"
  }
 },
 "nbformat": 4,
 "nbformat_minor": 4
}
