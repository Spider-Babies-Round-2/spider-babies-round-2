{
 "cells": [
  {
   "cell_type": "code",
   "execution_count": 8,
   "metadata": {},
   "outputs": [],
   "source": [
    "from sklearn.neural_network import MLPClassifier as mlpc\n",
    "from sklearn.preprocessing import StandardScaler,QuantileTransformer\n",
    "import numpy as np\n",
    "import matplotlib.pyplot as plt\n",
    "from sklearn.metrics import mean_squared_error, roc_auc_score\n",
    "\n",
    "import mltools as ml"
   ]
  },
  {
   "cell_type": "code",
   "execution_count": 9,
   "metadata": {},
   "outputs": [],
   "source": [
    "X = np.genfromtxt('data/X_train.txt', delimiter=',')\n",
    "Y = np.genfromtxt('data/Y_train.txt', delimiter=',')\n",
    "np.random.seed(0)\n",
    "\n",
    "X,Y = ml.shuffleData(X,Y)\n",
    "X = X[:,:41]"
   ]
  },
  {
   "cell_type": "code",
   "execution_count": 10,
   "metadata": {},
   "outputs": [],
   "source": [
    "scaler = StandardScaler()\n",
    "transformer = QuantileTransformer()\n",
    "\n",
    "Xtr, Xva, Ytr, Yva = ml.splitData(X,Y,0.7)\n",
    "Xtr_scaled = scaler.fit_transform(Xtr, Ytr)\n",
    "Xva_scaled = scaler.fit_transform(Xva,Yva)\n",
    "Xtr_transformed = transformer.fit_transform(Xtr)\n",
    "Xva_transformed = transformer.fit_transform(Xva)"
   ]
  },
  {
   "cell_type": "code",
   "execution_count": null,
   "metadata": {},
   "outputs": [],
   "source": [
    "learner = mlpc(max_iter=10000)#no weights first.\n",
    "learner.fit(Xtr_transformed,Ytr) #the training"
   ]
  },
  {
   "cell_type": "code",
   "execution_count": 7,
   "metadata": {},
   "outputs": [
    {
     "name": "stdout",
     "output_type": "stream",
     "text": [
      " auc: 1.0 | mse: 0.0\n"
     ]
    }
   ],
   "source": [
    "Yva_hat = learner.predict(Xva_transformed)\n",
    "\n",
    "print(f\" auc: {roc_auc_score(Yva, Yva_hat)} | mse: {mean_squared_error(Yva, Yva_hat)}\")"
   ]
  },
  {
   "cell_type": "code",
   "execution_count": null,
   "metadata": {},
   "outputs": [],
   "source": []
  }
 ],
 "metadata": {
  "kernelspec": {
   "display_name": "Python 3",
   "language": "python",
   "name": "python3"
  },
  "language_info": {
   "codemirror_mode": {
    "name": "ipython",
    "version": 3
   },
   "file_extension": ".py",
   "mimetype": "text/x-python",
   "name": "python",
   "nbconvert_exporter": "python",
   "pygments_lexer": "ipython3",
   "version": "3.7.4"
  }
 },
 "nbformat": 4,
 "nbformat_minor": 4
}
