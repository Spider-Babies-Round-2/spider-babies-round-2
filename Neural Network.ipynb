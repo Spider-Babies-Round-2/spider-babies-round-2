{
 "cells": [
  {
   "cell_type": "code",
   "execution_count": 2,
   "metadata": {},
   "outputs": [],
   "source": [
    "from sklearn.neural_network import MLPClassifier as mlpc\n",
    "from sklearn.preprocessing import StandardScaler,QuantileTransformer\n",
    "import numpy as np\n",
    "import matplotlib.pyplot as plt\n",
    "from sklearn.metrics import mean_squared_error, roc_auc_score\n",
    "\n",
    "import mltools as ml"
   ]
  },
  {
   "cell_type": "code",
   "execution_count": 3,
   "metadata": {},
   "outputs": [],
   "source": [
    "X = np.genfromtxt('data/X_train.txt', delimiter=',')\n",
    "Y = np.genfromtxt('data/Y_train.txt', delimiter=',')\n",
    "np.random.seed(0)\n",
    "\n",
    "X,Y = ml.shuffleData(X,Y)\n",
    "X = X[:,:41]"
   ]
  },
  {
   "cell_type": "code",
   "execution_count": 5,
   "metadata": {},
   "outputs": [],
   "source": [
    "scaler = StandardScaler()\n",
    "transformer = QuantileTransformer()\n",
    "\n",
    "Xtr, Xva, Ytr, Yva = ml.splitData(X,Y,0.7)\n",
    "Xtr_scaled = scaler.fit_transform(Xtr, Ytr)\n",
    "Xva_scaled = scaler.fit_transform(Xva,Yva)\n",
    "Xtr_transformed = transformer.fit_transform(Xtr)\n",
    "Xva_transformed = transformer.fit_transform(Xva)"
   ]
  },
  {
   "cell_type": "code",
   "execution_count": 58,
   "metadata": {},
   "outputs": [
    {
     "data": {
      "text/plain": [
       "MLPClassifier(alpha=0.001, max_iter=1000)"
      ]
     },
     "execution_count": 58,
     "metadata": {},
     "output_type": "execute_result"
    }
   ],
   "source": [
    "learner = mlpc(max_iter=1000, alpha=0.001)#no weights first.\n",
    "learner.fit(Xtr_transformed,Ytr) #the training"
   ]
  },
  {
   "cell_type": "code",
   "execution_count": 59,
   "metadata": {},
   "outputs": [
    {
     "name": "stdout",
     "output_type": "stream",
     "text": [
      " auc: 0.6083760807846174 | mse: 0.3915581499775483\n"
     ]
    }
   ],
   "source": [
    "Yva_hat = learner.predict(Xva_transformed)\n",
    "\n",
    "print(f\" auc: {roc_auc_score(Yva, Yva_hat)} | mse: {mean_squared_error(Yva, Yva_hat)}\")"
   ]
  },
  {
   "cell_type": "markdown",
   "metadata": {},
   "source": [
    "`alpha`= 0.001 is the best alpha we've discovered.\n",
    "`solver` should NOT be `\"lbfgs\".\n",
    "`random_state` should be kept to `None` (default)."
   ]
  },
  {
   "cell_type": "code",
   "execution_count": 18,
   "metadata": {},
   "outputs": [
    {
     "data": {
      "text/plain": [
       "MLPClassifier(activation='tanh', alpha=0.001,\n",
       "              hidden_layer_sizes=(100, 100, 100), max_iter=10000)"
      ]
     },
     "execution_count": 18,
     "metadata": {},
     "output_type": "execute_result"
    }
   ],
   "source": [
    "learner = mlpc(max_iter=10000, alpha=0.001, hidden_layer_sizes=(100,100,100), activation='tanh')#no weights first.\n",
    "learner.fit(Xtr_transformed,Ytr) #the training"
   ]
  },
  {
   "cell_type": "code",
   "execution_count": 19,
   "metadata": {},
   "outputs": [
    {
     "name": "stdout",
     "output_type": "stream",
     "text": [
      " auc: 0.5767058652729384 | mse: 0.42343960484957344\n"
     ]
    }
   ],
   "source": [
    "Yva_hat = learner.predict(Xva_transformed)\n",
    "\n",
    "print(f\" auc: {roc_auc_score(Yva, Yva_hat)} | mse: {mean_squared_error(Yva, Yva_hat)}\")"
   ]
  },
  {
   "cell_type": "code",
   "execution_count": null,
   "metadata": {},
   "outputs": [],
   "source": [
    "from sklearn.model_selection import GridSearchCV\n",
    "\n",
    "parameter_space = {\n",
    "    'hidden_layer_sizes': [(5,10,5),(5,), (7,10,7), (5,5,5), (5,7,5), (5,11,5), (5,5,10),(5,10,10), (10,5,5)],\n",
    "    'activation': ['tanh'],\n",
    "    'alpha': [0.05],\n",
    "    'learning_rate': ['adaptive']\n",
    "}\n",
    "\n",
    "learner = mlpc(max_iter=10000)\n",
    "\n",
    "clf = GridSearchCV(learner,parameter_space,n_jobs=-1,cv=5)\n",
    "\n",
    "clf.fit(Xtr_transformed, Ytr)"
   ]
  },
  {
   "cell_type": "code",
   "execution_count": null,
   "metadata": {},
   "outputs": [],
   "source": [
    "print('Best parameters: ', clf.best_params_)"
   ]
  },
  {
   "cell_type": "code",
   "execution_count": 42,
   "metadata": {},
   "outputs": [
    {
     "data": {
      "text/plain": [
       "MLPClassifier(activation='tanh', alpha=0.05, hidden_layer_sizes=(5, 15, 5),\n",
       "              learning_rate='adaptive', max_iter=10000)"
      ]
     },
     "execution_count": 42,
     "metadata": {},
     "output_type": "execute_result"
    }
   ],
   "source": [
    "learner = mlpc(max_iter=10000, alpha=0.05, hidden_layer_sizes=(5,10,5), activation='tanh', learning_rate= 'adaptive')\n",
    "learner.fit(Xtr_transformed,Ytr) #the training"
   ]
  },
  {
   "cell_type": "code",
   "execution_count": 43,
   "metadata": {},
   "outputs": [
    {
     "name": "stdout",
     "output_type": "stream",
     "text": [
      " auc: 0.6178087495160666 | mse: 0.38212842388863943\n"
     ]
    }
   ],
   "source": [
    "Yva_hat = learner.predict(Xva_transformed)\n",
    "\n",
    "print(f\" auc: {roc_auc_score(Yva, Yva_hat)} | mse: {mean_squared_error(Yva, Yva_hat)}\")"
   ]
  },
  {
   "cell_type": "code",
   "execution_count": null,
   "metadata": {},
   "outputs": [],
   "source": []
  }
 ],
 "metadata": {
  "kernelspec": {
   "display_name": "Python 3",
   "language": "python",
   "name": "python3"
  },
  "language_info": {
   "codemirror_mode": {
    "name": "ipython",
    "version": 3
   },
   "file_extension": ".py",
   "mimetype": "text/x-python",
   "name": "python",
   "nbconvert_exporter": "python",
   "pygments_lexer": "ipython3",
   "version": "3.8.5"
  }
 },
 "nbformat": 4,
 "nbformat_minor": 4
}
