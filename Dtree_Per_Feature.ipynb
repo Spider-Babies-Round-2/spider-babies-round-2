{
 "cells": [
  {
   "cell_type": "markdown",
   "metadata": {},
   "source": [
    "## Testing the learner concept"
   ]
  },
  {
   "cell_type": "code",
   "execution_count": 15,
   "metadata": {},
   "outputs": [],
   "source": [
    "import mltools as ml\n",
    "import numpy as np\n",
    "import matplotlib.pyplot as plt\n",
    "\n",
    "X = np.genfromtxt('data/X_train.txt', delimiter=',')\n",
    "Y = np.genfromtxt('data/Y_train.txt', delimiter=',')\n",
    "\n",
    "X,Y = ml.shuffleData(X,Y)\n",
    "\n",
    "Xtr, Xva, Ytr, Yva = ml.splitData(X,Y,0.7)\n",
    "\n",
    "X_numeric = Xtr[:,:41]\n",
    "X_discrete = Xtr[:,41:69]\n",
    "X_binary = Xtr[:,69:-1]\n",
    "\n",
    "Xtr_kaggle = np.genfromtxt('data/X_train.txt', delimiter=',')\n",
    "Ytr_kaggle = np.genfromtxt('data/Y_train.txt', delimiter=',')"
   ]
  },
  {
   "cell_type": "code",
   "execution_count": 17,
   "metadata": {},
   "outputs": [
    {
     "name": "stdout",
     "output_type": "stream",
     "text": [
      "# of numeric learners = 3\n",
      "# of discrete learners = 1\n",
      "# of binary learners = 0\n",
      "---- Total number of bags for this run: 4\n",
      "# of numeric learners = 7\n",
      "# of discrete learners = 2\n",
      "# of binary learners = 1\n",
      "---- Total number of bags for this run: 10\n",
      "# of numeric learners = 17\n",
      "# of discrete learners = 5\n",
      "# of binary learners = 2\n",
      "---- Total number of bags for this run: 24\n",
      "# of numeric learners = 33\n",
      "# of discrete learners = 10\n",
      "# of binary learners = 5\n",
      "---- Total number of bags for this run: 48\n"
     ]
    }
   ],
   "source": [
    "class BaggedTree(ml.base.classifier):\n",
    "    def __init__(self, learners):\n",
    "        \"\"\"Constructs a BaggedTree class with a set of learners. \"\"\"\n",
    "        self.learners = learners\n",
    "    \n",
    "    def predictSoft(self, X):\n",
    "        \"\"\"Predicts the probabilities with each bagged learner and average over the results. \"\"\"\n",
    "        n_bags = len(self.learners)\n",
    "        preds = [self.learners[l].predictSoft(X) for l in range(n_bags)]\n",
    "        return np.mean(preds, axis=0)\n",
    "\n",
    "bootstrap_sample_size = 50\n",
    "\n",
    "m,n = Xtr.shape\n",
    "\n",
    "bag_numbers = np.array([5,10,25,50])\n",
    "\n",
    "#ensemble_predictions = np.zeros(len(bag_numbers))\n",
    "\n",
    "ensemble_training_errors = np.zeros(len(bag_numbers))\n",
    "ensemble_validation_errors = np.zeros(len(bag_numbers))\n",
    "\n",
    "for predictions_index, num_bags in enumerate(bag_numbers):\n",
    "    num_numeric_learners = int(round(num_bags / 1.5))\n",
    "    num_discrete_learners = int(round(num_bags / 5))\n",
    "    num_binary_learners = int(round(num_bags / 10))\n",
    "    \n",
    "    # update num bags based on number of learners \n",
    "    # (only slight deviation based on the algorithm and rounding)\n",
    "    num_bags = num_numeric_learners + num_discrete_learners + num_binary_learners\n",
    "    \n",
    "    print(f\"# of numeric learners = {num_numeric_learners}\")\n",
    "    print(f\"# of discrete learners = {num_discrete_learners}\")\n",
    "    print(f\"# of binary learners = {num_binary_learners}\")\n",
    "    print(f\"---- Total number of bags for this run: {num_bags}\")\n",
    "    \n",
    "    \n",
    "    classifiers = [None]*num_bags\n",
    "    \n",
    "    # keep track of which number classifier we are on\n",
    "    classifiers_index = 0\n",
    "    \n",
    "    for i in range(num_numeric_learners):\n",
    "        #print(\"classifier index\", classifiers_index)\n",
    "        Xi,Yi = ml.bootstrapData(Xtr, Ytr)\n",
    "        \n",
    "        # insert classifier into list\n",
    "        classifiers[classifiers_index] = ml.dtree.treeClassify(Xi, Yi, minParent=400, minLeaf=100, maxDepth=50)\n",
    "        classifiers_index += 1\n",
    "        \n",
    "    for i in range(num_discrete_learners):\n",
    "        #print(\"classifier index\", classifiers_index)\n",
    "        Xi,Yi = ml.bootstrapData(Xtr, Ytr)\n",
    "        \n",
    "        # insert classifier into list\n",
    "        classifiers[classifiers_index] = ml.dtree.treeClassify(Xi, Yi, minParent=300, minLeaf=100, maxDepth=10)\n",
    "        classifiers_index += 1\n",
    "\n",
    "    for i in range(num_binary_learners):\n",
    "        #print(\"classifier index\", classifiers_index)\n",
    "        Xi,Yi = ml.bootstrapData(Xtr, Ytr)\n",
    "        \n",
    "        # insert classifier into list\n",
    "        classifiers[classifiers_index] = ml.dtree.treeClassify(Xi, Yi, minParent=16, minLeaf=50, maxDepth=10)\n",
    "        classifiers_index += 1\n",
    "        \n",
    "        \n",
    "    #print(classifiers)\n",
    "\n",
    "    bagged_tree = BaggedTree(classifiers)\n",
    "    bagged_tree.classes = np.unique(Y)\n",
    "    ensemble_training_errors[predictions_index] = bagged_tree.err(Xtr,Ytr)\n",
    "    ensemble_validation_errors[predictions_index] = bagged_tree.err(Xva,Yva)\n",
    "    \n",
    "\n",
    "    \n"
   ]
  },
  {
   "cell_type": "code",
   "execution_count": 18,
   "metadata": {},
   "outputs": [
    {
     "data": {
      "image/png": "[encoded data removed]",
      "text/plain": [
       "<Figure size 432x288 with 1 Axes>"
      ]
     },
     "metadata": {
      "needs_background": "light"
     },
     "output_type": "display_data"
    }
   ],
   "source": [
    "fig, ax = plt.subplots(1,1)\n",
    "\n",
    "ax.semilogx(bag_numbers, ensemble_training_errors, \"g-\", lw=3, label = \"Training\")\n",
    "ax.semilogx(bag_numbers, ensemble_validation_errors, \"r-\", lw=3, label = \"Validation\")\n",
    "\n",
    "\n",
    "plt.show()"
   ]
  },
  {
   "cell_type": "markdown",
   "metadata": {},
   "source": [
    "## Creating the final learner!"
   ]
  },
  {
   "cell_type": "code",
   "execution_count": 19,
   "metadata": {},
   "outputs": [
    {
     "name": "stdout",
     "output_type": "stream",
     "text": [
      "# of numeric learners = 33\n",
      "# of discrete learners = 10\n",
      "# of binary learners = 5\n",
      "---- Total number of bags for this run: 48\n"
     ]
    }
   ],
   "source": [
    "\n",
    "\n",
    "#Xtr_kaggle = Xtr_kaggle[:,:41]\n",
    "\n",
    "Xtr_kaggle,Ytr_kaggle = ml.shuffleData(Xtr_kaggle,Ytr_kaggle)\n",
    "\n",
    "#final_num_bags = 50\n",
    "#final_classifiers = [None]*final_num_bags\n",
    "\n",
    "num_bags = 50\n",
    "\n",
    "num_numeric_learners = int(round(num_bags / 1.5))\n",
    "num_discrete_learners = int(round(num_bags / 5))\n",
    "num_binary_learners = int(round(num_bags / 10))\n",
    "    \n",
    "# update num bags based on number of learners \n",
    "# (only slight deviation based on the algorithm and rounding)\n",
    "num_bags = num_numeric_learners + num_discrete_learners + num_binary_learners\n",
    "\n",
    "print(f\"# of numeric learners = {num_numeric_learners}\")\n",
    "print(f\"# of discrete learners = {num_discrete_learners}\")\n",
    "print(f\"# of binary learners = {num_binary_learners}\")\n",
    "print(f\"---- Total number of bags for this run: {num_bags}\")\n",
    "\n",
    "\n",
    "classifiers = [None]*num_bags\n",
    "\n",
    "# keep track of which number classifier we are on\n",
    "classifiers_index = 0\n",
    "\n",
    "for i in range(num_numeric_learners):\n",
    "    #print(\"classifier index\", classifiers_index)\n",
    "    Xi,Yi = ml.bootstrapData(Xtr, Ytr)\n",
    "\n",
    "    # insert classifier into list\n",
    "    classifiers[classifiers_index] = ml.dtree.treeClassify(Xi, Yi, minParent=400, minLeaf=100, maxDepth=50)\n",
    "    classifiers_index += 1\n",
    "\n",
    "for i in range(num_discrete_learners):\n",
    "    #print(\"classifier index\", classifiers_index)\n",
    "    Xi,Yi = ml.bootstrapData(Xtr, Ytr)\n",
    "\n",
    "    # insert classifier into list\n",
    "    classifiers[classifiers_index] = ml.dtree.treeClassify(Xi, Yi, minParent=300, minLeaf=100, maxDepth=10)\n",
    "    classifiers_index += 1\n",
    "\n",
    "for i in range(num_binary_learners):\n",
    "    #print(\"classifier index\", classifiers_index)\n",
    "    Xi,Yi = ml.bootstrapData(Xtr, Ytr)\n",
    "\n",
    "    # insert classifier into list\n",
    "    classifiers[classifiers_index] = ml.dtree.treeClassify(Xi, Yi, minParent=16, minLeaf=50, maxDepth=10)\n",
    "    classifiers_index += 1\n",
    "\n",
    "\n",
    "    \n",
    "    \n",
    "\n",
    "kaggle_bagged_tree = BaggedTree(classifiers)\n",
    "kaggle_bagged_tree.classes = np.unique(Ytr_kaggle)\n",
    "\n"
   ]
  },
  {
   "cell_type": "markdown",
   "metadata": {},
   "source": [
    "### Let's check out some AUC stuff"
   ]
  },
  {
   "cell_type": "code",
   "execution_count": null,
   "metadata": {},
   "outputs": [],
   "source": []
  },
  {
   "cell_type": "markdown",
   "metadata": {},
   "source": [
    "## Create the final prediction!"
   ]
  },
  {
   "cell_type": "code",
   "execution_count": 21,
   "metadata": {},
   "outputs": [],
   "source": [
    "Xte = np.genfromtxt('data/X_test.txt', delimiter=',')\n",
    "Yte_ensemble = np.vstack((np.arange(Xte.shape[0]), kaggle_bagged_tree.predictSoft(Xte)[:,1])).T\n",
    "\n",
    "np.savetxt('Y_submit_ensemble.txt', Yte_ensemble,'%d, %.2f', header='Id,Predicted', delimiter=',')"
   ]
  },
  {
   "cell_type": "markdown",
   "metadata": {},
   "source": [
    "0.731!!!!!!!!!!!!!"
   ]
  },
  {
   "cell_type": "code",
   "execution_count": null,
   "metadata": {},
   "outputs": [],
   "source": []
  }
 ],
 "metadata": {
  "kernelspec": {
   "display_name": "Python 3",
   "language": "python",
   "name": "python3"
  },
  "language_info": {
   "codemirror_mode": {
    "name": "ipython",
    "version": 3
   },
   "file_extension": ".py",
   "mimetype": "text/x-python",
   "name": "python",
   "nbconvert_exporter": "python",
   "pygments_lexer": "ipython3",
   "version": "3.7.6"
  }
 },
 "nbformat": 4,
 "nbformat_minor": 4
}
