{
 "cells": [
  {
   "cell_type": "code",
   "execution_count": 1,
   "metadata": {},
   "outputs": [
    {
     "name": "stdout",
     "output_type": "stream",
     "text": [
      "entropy = 0.6930615434618173\n"
     ]
    }
   ],
   "source": [
    "import numpy as np\n",
    "import matplotlib.pyplot as plt\n",
    "import mltools as ml\n",
    "\n",
    "np.random.seed(0)\n",
    "%matplotlib inline\n",
    "\n",
    "\n",
    "X = np.genfromtxt('data/X_train.txt', delimiter=',')\n",
    "Y = np.genfromtxt('data/Y_train.txt', delimiter=',')\n",
    "X,Y = ml.shuffleData(X,Y)\n",
    "X = X[:,:41] #only taking first 41, maybe deal with the other values later(categorical, binary)\n",
    "\n",
    "[Xtr, Xva, Ytr, Yva] = ml.splitData(X,Y,0.70) #70% training, 30% validation\n",
    "\n",
    "FEATURES = 41\n",
    "\n",
    "#Create a 2D array for all the data\n",
    "data = np.zeros((len(Xtr[0]),len(Xtr)+1))\n",
    "\n",
    "assert len(Ytr) == 5196 # verify our Y is 70% of 7423, which is 5196\n",
    "\n",
    "\n",
    "p_read = np.count_nonzero(Ytr == 1) / len(Ytr)\n",
    "p_not_read = np.count_nonzero(Ytr == 0) / len(Ytr)\n",
    "\n",
    "entropy_y = - p_read * np.log(p_read) - p_not_read * np.log(p_not_read)\n",
    "\n",
    "print(f\"entropy = {entropy_y}\")"
   ]
  },
  {
   "cell_type": "code",
   "execution_count": 2,
   "metadata": {},
   "outputs": [],
   "source": [
    "from utils.infogains import InfoGains\n"
   ]
  },
  {
   "cell_type": "code",
   "execution_count": 3,
   "metadata": {},
   "outputs": [
    {
     "name": "stdout",
     "output_type": "stream",
     "text": [
      "Info gain for feature 1 = 0.13196904827703038\n",
      "Info gain for feature 2 = 0.0025043590645293934\n",
      "Info gain for feature 3 = 0.21322198081005406\n",
      "Info gain for feature 4 = 0.052353936432473214\n",
      "Info gain for feature 5 = 0.05185194485582301\n",
      "Info gain for feature 6 = 0.009735757924521748\n",
      "Info gain for feature 7 = 0.025989489772987873\n",
      "Info gain for feature 8 = 0.21048668828000017\n",
      "Info gain for feature 9 = 0.0017978031945264927\n",
      "Info gain for feature 10 = 0.7496984642726037\n",
      "Info gain for feature 11 = 0.0005627942887280746\n",
      "Info gain for feature 12 = 0.10200203892194015\n",
      "Info gain for feature 13 = 0.001621718782619741\n",
      "Info gain for feature 14 = 0.0007789285460874096\n",
      "Info gain for feature 15 = 0.030661752462856295\n",
      "Info gain for feature 16 = 0.03491393855923097\n",
      "Info gain for feature 17 = 0.7373042866686692\n",
      "Info gain for feature 18 = 0.0015629303944575401\n",
      "Info gain for feature 19 = 0.9850594960657354\n",
      "Info gain for feature 20 = 0.014272298666253902\n",
      "Info gain for feature 21 = 0.012197218813172594\n",
      "Info gain for feature 22 = 0.9318016695612602\n",
      "Info gain for feature 23 = 0.01787681117387141\n",
      "Info gain for feature 24 = 0.02282695945919644\n",
      "Info gain for feature 25 = 0.9768581656472896\n",
      "Info gain for feature 26 = 0.11631032169789302\n",
      "Info gain for feature 27 = 0.023369148251744076\n",
      "Info gain for feature 28 = 0.5541881395010766\n",
      "Info gain for feature 29 = 0.11415494497163003\n",
      "Info gain for feature 30 = 0.0016776904556027317\n",
      "Info gain for feature 31 = 0.880938085489017\n",
      "Info gain for feature 32 = 0.8056492494509481\n",
      "Info gain for feature 33 = 0.1966168067074825\n",
      "Info gain for feature 34 = 0.000613343452742221\n",
      "Info gain for feature 35 = 0.005447866747384511\n",
      "Info gain for feature 36 = 0.5958223341440285\n",
      "Info gain for feature 37 = 0.9275050161458535\n",
      "Info gain for feature 38 = 0.03418085557293005\n",
      "Info gain for feature 39 = 0.6307130142885311\n",
      "Info gain for feature 40 = 0.0004478285640651114\n",
      "Info gain for feature 41 = 0.0005104187306237407\n"
     ]
    }
   ],
   "source": [
    "import mltools as ml\n",
    "my_gains = InfoGains(Xtr, Ytr, (1,0))\n",
    "\n",
    "info_gains = my_gains.calc_all_info_gain()\n",
    "\n",
    "for index,info_gain in enumerate(info_gains):\n",
    "    print(f\"Info gain for feature {index+1} = {info_gain}\")"
   ]
  },
  {
   "cell_type": "code",
   "execution_count": null,
   "metadata": {},
   "outputs": [],
   "source": []
  }
 ],
 "metadata": {
  "kernelspec": {
   "display_name": "Python 3",
   "language": "python",
   "name": "python3"
  },
  "language_info": {
   "codemirror_mode": {
    "name": "ipython",
    "version": 3
   },
   "file_extension": ".py",
   "mimetype": "text/x-python",
   "name": "python",
   "nbconvert_exporter": "python",
   "pygments_lexer": "ipython3",
   "version": "3.7.6"
  }
 },
 "nbformat": 4,
 "nbformat_minor": 2
}
