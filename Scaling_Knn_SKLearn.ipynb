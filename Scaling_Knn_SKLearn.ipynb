{
 "cells": [
  {
   "cell_type": "code",
   "execution_count": 147,
   "metadata": {},
   "outputs": [],
   "source": [
    "from sklearn.preprocessing import StandardScaler\n",
    "from sklearn.neighbors import KNeighborsClassifier\n",
    "import numpy as np\n",
    "import matplotlib.pyplot as plt\n",
    "\n",
    "import mltools as ml\n",
    "np.random.seed(0)"
   ]
  },
  {
   "cell_type": "code",
   "execution_count": 121,
   "metadata": {},
   "outputs": [],
   "source": [
    "\n",
    "\n",
    "X = np.genfromtxt('data/X_train.txt', delimiter=',')\n",
    "Y = np.genfromtxt('data/Y_train.txt', delimiter=',')\n",
    "\n",
    "\n",
    "X,Y = ml.shuffleData(X,Y)\n",
    "\n"
   ]
  },
  {
   "cell_type": "markdown",
   "metadata": {},
   "source": [
    "## Approach using SKLearn scaler & mltools knn"
   ]
  },
  {
   "cell_type": "code",
   "execution_count": 9,
   "metadata": {},
   "outputs": [],
   "source": [
    "scaler = StandardScaler()\n",
    "\n",
    "\n",
    "Xtr, Xva, Ytr, Yva = ml.splitData(X,Y,0.7)\n",
    "Xtr_scaled = scaler.fit_transform(Xtr, Ytr)\n",
    "Xva_scaled = scaler.fit_transform(Xva,Yva)"
   ]
  },
  {
   "cell_type": "markdown",
   "metadata": {},
   "source": [
    "### Not scaled"
   ]
  },
  {
   "cell_type": "code",
   "execution_count": 5,
   "metadata": {},
   "outputs": [],
   "source": [
    "not_scaled_knn = ml.knn.knnClassify()\n",
    "\n",
    "not_scaled_knn.train(Xtr, Ytr)"
   ]
  },
  {
   "cell_type": "code",
   "execution_count": 6,
   "metadata": {},
   "outputs": [
    {
     "name": "stdout",
     "output_type": "stream",
     "text": [
      "Dumb auc 0.5074151480766682 | Dumb Error 0.4921418949259093\n"
     ]
    }
   ],
   "source": [
    "not_scaled_auc = not_scaled_knn.auc(Xva, Yva)\n",
    "\n",
    "not_scaled_err = not_scaled_knn.err(Xva, Yva)\n",
    "\n",
    "print(f\"Dumb auc {not_scaled_auc} | Dumb Error {not_scaled_err}\")"
   ]
  },
  {
   "cell_type": "markdown",
   "metadata": {},
   "source": [
    "### Scaled"
   ]
  },
  {
   "cell_type": "code",
   "execution_count": 13,
   "metadata": {},
   "outputs": [
    {
     "data": {
      "text/plain": [
       "KNeighborsClassifier(weights='distance')"
      ]
     },
     "execution_count": 13,
     "metadata": {},
     "output_type": "execute_result"
    }
   ],
   "source": [
    "scaled_knn = ml.knn.knnClassify()\n",
    "scaled_knn.train(Xtr_scaled, Ytr)"
   ]
  },
  {
   "cell_type": "code",
   "execution_count": 10,
   "metadata": {},
   "outputs": [
    {
     "name": "stdout",
     "output_type": "stream",
     "text": [
      "Scaled auc 0.5403468915375986 | Scaled Error 0.4580152671755725\n"
     ]
    }
   ],
   "source": [
    "scaled_auc = scaled_knn.auc(Xva, Yva)\n",
    "\n",
    "scaled_err = scaled_knn.err(Xva, Yva)\n",
    "\n",
    "print(f\"Scaled auc {scaled_auc} | Scaled Error {scaled_err}\")"
   ]
  },
  {
   "cell_type": "markdown",
   "metadata": {},
   "source": [
    "## Approach using SKLearn all the way"
   ]
  },
  {
   "cell_type": "code",
   "execution_count": 122,
   "metadata": {},
   "outputs": [],
   "source": [
    "from sklearn.metrics import mean_squared_error, roc_auc_score"
   ]
  },
  {
   "cell_type": "code",
   "execution_count": 123,
   "metadata": {},
   "outputs": [],
   "source": [
    "scaler = StandardScaler()\n",
    "\n",
    "\n",
    "Xtr, Xva, Ytr, Yva = ml.splitData(X,Y,0.7)\n",
    "Xtr_scaled = scaler.fit_transform(Xtr, Ytr)\n",
    "Xva_scaled = scaler.fit_transform(Xva,Yva)"
   ]
  },
  {
   "cell_type": "markdown",
   "metadata": {},
   "source": [
    "### Not Scaled"
   ]
  },
  {
   "cell_type": "code",
   "execution_count": 124,
   "metadata": {},
   "outputs": [
    {
     "data": {
      "text/plain": [
       "KNeighborsClassifier(n_neighbors=45, weights='distance')"
      ]
     },
     "execution_count": 124,
     "metadata": {},
     "output_type": "execute_result"
    }
   ],
   "source": [
    "not_scaled_sklearn_knn = KNeighborsClassifier(weights='distance')\n",
    "sklearn_knn.fit(Xtr, Ytr)"
   ]
  },
  {
   "cell_type": "code",
   "execution_count": 125,
   "metadata": {},
   "outputs": [
    {
     "name": "stdout",
     "output_type": "stream",
     "text": [
      "Not Scaled auc: 0.5572096696899239 | Not scaled mse: 0.44319712617871576\n"
     ]
    }
   ],
   "source": [
    "Yva_hat = sklearn_knn.predict(Xva)\n",
    "\n",
    "print(f\"Not Scaled auc: {roc_auc_score(Yva, Yva_hat)} | Not scaled mse: {mean_squared_error(Yva, Yva_hat)}\")"
   ]
  },
  {
   "cell_type": "markdown",
   "metadata": {},
   "source": [
    "### Scaled"
   ]
  },
  {
   "cell_type": "code",
   "execution_count": 126,
   "metadata": {},
   "outputs": [
    {
     "data": {
      "text/plain": [
       "KNeighborsClassifier(weights='distance')"
      ]
     },
     "execution_count": 126,
     "metadata": {},
     "output_type": "execute_result"
    }
   ],
   "source": [
    "sklearn_knn = KNeighborsClassifier(weights='distance')\n",
    "sklearn_knn.fit(Xtr_scaled, Ytr)"
   ]
  },
  {
   "cell_type": "code",
   "execution_count": 127,
   "metadata": {},
   "outputs": [
    {
     "name": "stdout",
     "output_type": "stream",
     "text": [
      "Scaled auc: 0.5681313947052928 | Scaled mse: 0.4324202963628199\n"
     ]
    }
   ],
   "source": [
    "Yva_hat = sklearn_knn.predict(Xva_scaled)\n",
    "\n",
    "print(f\"Scaled auc: {roc_auc_score(Yva, Yva_hat)} | Scaled mse: {mean_squared_error(Yva, Yva_hat)}\")"
   ]
  },
  {
   "cell_type": "markdown",
   "metadata": {},
   "source": [
    "SKLearn's KNN Classifier performs better than mltool's KNN Classifier across the board, both with efficiency and accuracy. "
   ]
  },
  {
   "cell_type": "markdown",
   "metadata": {},
   "source": [
    "## Different Preprocessing methods"
   ]
  },
  {
   "cell_type": "markdown",
   "metadata": {},
   "source": [
    "We will now vary the preprocessing (usually scaling) methods, as well as the features used to train/predict."
   ]
  },
  {
   "cell_type": "code",
   "execution_count": 128,
   "metadata": {},
   "outputs": [],
   "source": [
    "X = np.genfromtxt('data/X_train.txt', delimiter=',')\n",
    "Y = np.genfromtxt('data/Y_train.txt', delimiter=',')\n",
    "\n",
    "X,Y = ml.shuffleData(X,Y)"
   ]
  },
  {
   "cell_type": "markdown",
   "metadata": {},
   "source": [
    "### Standard Scaling using all features"
   ]
  },
  {
   "cell_type": "code",
   "execution_count": 129,
   "metadata": {},
   "outputs": [],
   "source": [
    "from sklearn.preprocessing import StandardScaler\n",
    "scaler = StandardScaler()\n",
    "\n",
    "# scale data\n",
    "Xtr, Xva, Ytr, Yva = ml.splitData(X,Y,0.7)\n",
    "Xtr_scaled = scaler.fit_transform(Xtr, Ytr)\n",
    "Xva_scaled = scaler.fit_transform(Xva,Yva)"
   ]
  },
  {
   "cell_type": "code",
   "execution_count": 130,
   "metadata": {},
   "outputs": [
    {
     "name": "stdout",
     "output_type": "stream",
     "text": [
      "Scaled auc: 0.5628770339058252 | Scaled mse: 0.4373596766951055\n"
     ]
    }
   ],
   "source": [
    "sklearn_knn = KNeighborsClassifier(weights='distance')\n",
    "sklearn_knn.fit(Xtr_scaled, Ytr)\n",
    "Yva_hat = sklearn_knn.predict(Xva_scaled)\n",
    "\n",
    "print(f\"Scaled auc: {roc_auc_score(Yva, Yva_hat)} | Scaled mse: {mean_squared_error(Yva, Yva_hat)}\")"
   ]
  },
  {
   "cell_type": "markdown",
   "metadata": {},
   "source": [
    "### Standard Scaling using numeric features"
   ]
  },
  {
   "cell_type": "code",
   "execution_count": 131,
   "metadata": {},
   "outputs": [],
   "source": [
    "from sklearn.preprocessing import StandardScaler\n",
    "scaler = StandardScaler()\n",
    "\n",
    "# get numeric\n",
    "X_numeric = X[:,:41]\n",
    "\n",
    "# scale data\n",
    "Xtr, Xva, Ytr, Yva = ml.splitData(X_numeric,Y,0.7)\n",
    "Xtr_scaled = scaler.fit_transform(Xtr, Ytr)\n",
    "Xva_scaled = scaler.fit_transform(Xva,Yva)"
   ]
  },
  {
   "cell_type": "code",
   "execution_count": 132,
   "metadata": {},
   "outputs": [
    {
     "name": "stdout",
     "output_type": "stream",
     "text": [
      "Scaled auc: 0.5583191487645307 | Scaled mse: 0.4418500224517288\n"
     ]
    }
   ],
   "source": [
    "sklearn_knn = KNeighborsClassifier(weights='distance')\n",
    "sklearn_knn.fit(Xtr_scaled, Ytr)\n",
    "Yva_hat = sklearn_knn.predict(Xva_scaled)\n",
    "\n",
    "print(f\"Scaled auc: {roc_auc_score(Yva, Yva_hat)} | Scaled mse: {mean_squared_error(Yva, Yva_hat)}\")"
   ]
  },
  {
   "cell_type": "markdown",
   "metadata": {},
   "source": [
    "### No Scaling with binary features"
   ]
  },
  {
   "cell_type": "code",
   "execution_count": 133,
   "metadata": {},
   "outputs": [],
   "source": [
    "X_binary = X[:,69:-1]\n",
    "Xtr, Xva, Ytr, Yva = ml.splitData(X,Y,0.7)"
   ]
  },
  {
   "cell_type": "code",
   "execution_count": 134,
   "metadata": {},
   "outputs": [
    {
     "name": "stdout",
     "output_type": "stream",
     "text": [
      "Scaled auc: 0.5141310573486823 | Scaled mse: 0.48585541086663675\n"
     ]
    }
   ],
   "source": [
    "sklearn_knn = KNeighborsClassifier(weights='distance')\n",
    "sklearn_knn.fit(Xtr, Ytr)\n",
    "Yva_hat = sklearn_knn.predict(Xva)\n",
    "\n",
    "print(f\"Scaled auc: {roc_auc_score(Yva, Yva_hat)} | Scaled mse: {mean_squared_error(Yva, Yva_hat)}\")"
   ]
  },
  {
   "cell_type": "markdown",
   "metadata": {},
   "source": [
    "### Standard Scaling using Categorical Features"
   ]
  },
  {
   "cell_type": "code",
   "execution_count": 141,
   "metadata": {},
   "outputs": [],
   "source": [
    "from sklearn.preprocessing import StandardScaler\n",
    "scaler = StandardScaler()\n",
    "\n",
    "# get numeric\n",
    "X_numeric = X[:,41:69]\n",
    "\n",
    "# scale data\n",
    "Xtr, Xva, Ytr, Yva = ml.splitData(X_numeric,Y,0.7)\n",
    "Xtr_scaled = scaler.fit_transform(Xtr, Ytr)\n",
    "Xva_scaled = scaler.fit_transform(Xva,Yva)"
   ]
  },
  {
   "cell_type": "code",
   "execution_count": 142,
   "metadata": {},
   "outputs": [
    {
     "name": "stdout",
     "output_type": "stream",
     "text": [
      "Scaled auc: 0.5428200412956511 | Scaled mse: 0.4571171980242479\n"
     ]
    }
   ],
   "source": [
    "sklearn_knn = KNeighborsClassifier(weights='distance')\n",
    "sklearn_knn.fit(Xtr_scaled, Ytr)\n",
    "Yva_hat = sklearn_knn.predict(Xva_scaled)\n",
    "\n",
    "print(f\"Scaled auc: {roc_auc_score(Yva, Yva_hat)} | Scaled mse: {mean_squared_error(Yva, Yva_hat)}\")"
   ]
  },
  {
   "cell_type": "markdown",
   "metadata": {},
   "source": [
    "### Conclusion:"
   ]
  },
  {
   "cell_type": "markdown",
   "metadata": {},
   "source": [
    "So far, Scaling with only numeric features look the best!"
   ]
  },
  {
   "cell_type": "markdown",
   "metadata": {},
   "source": [
    "## Varying n_neighbors"
   ]
  },
  {
   "cell_type": "markdown",
   "metadata": {},
   "source": [
    "Now that we've determined to use SKLearn's KNN Classifier, and verified that Scaling with only categorical features is the way to go (but barely better than numeric features), let's check out other parameters."
   ]
  },
  {
   "cell_type": "code",
   "execution_count": 143,
   "metadata": {},
   "outputs": [],
   "source": [
    "import numpy as np\n",
    "\n",
    "\n",
    "X = np.genfromtxt('data/X_train.txt', delimiter=',')\n",
    "Y = np.genfromtxt('data/Y_train.txt', delimiter=',')\n",
    "\n",
    "np.random.seed(0)\n",
    "X,Y = ml.shuffleData(X,Y)\n",
    "X_numeric = X[:,:41]\n",
    "X_categorical = X[:,41:69]\n",
    "scaler = StandardScaler()\n",
    "\n",
    "\n",
    "Xtr, Xva, Ytr, Yva = ml.splitData(X_categorical,Y,0.7)\n",
    "Xtr_scaled = scaler.fit_transform(Xtr, Ytr)\n",
    "Xva_scaled = scaler.fit_transform(Xva,Yva)"
   ]
  },
  {
   "cell_type": "code",
   "execution_count": 144,
   "metadata": {},
   "outputs": [],
   "source": [
    "all_n_neighbors = [1,2,3,5,7,10,15,20,30,40,50,70,100,150,200,300,400,600]\n",
    "\n",
    "# init performance data arrays\n",
    "n_neighbors_training_auc = np.zeros(len(all_n_neighbors))\n",
    "n_neighbors_training_mse = np.zeros(len(all_n_neighbors))\n",
    "n_neighbors_validation_auc = np.zeros(len(all_n_neighbors))\n",
    "n_neighbors_validation_mse = np.zeros(len(all_n_neighbors))\n",
    "\n",
    "for index,n_neighbors in enumerate(all_n_neighbors):\n",
    "\n",
    "    # create classifier\n",
    "    knn = KNeighborsClassifier(n_neighbors = n_neighbors, weights='distance')\n",
    "    knn.fit(Xtr_scaled, Ytr)\n",
    "    \n",
    "    # make predictions\n",
    "    Ytr_hat = knn.predict(Xtr_scaled)\n",
    "    Yva_hat = knn.predict(Xva_scaled)\n",
    "    \n",
    "    # get performance\n",
    "    training_auc = roc_auc_score(Ytr, Ytr_hat)\n",
    "    training_mse = mean_squared_error(Ytr, Ytr_hat)\n",
    "    validation_auc = roc_auc_score(Yva, Yva_hat)\n",
    "    validation_mse = mean_squared_error(Yva, Yva_hat)\n",
    "    \n",
    "    # save performance\n",
    "    n_neighbors_training_auc[index] = training_auc\n",
    "    n_neighbors_training_mse[index] = training_mse\n",
    "    n_neighbors_validation_auc[index] = validation_auc\n",
    "    n_neighbors_validation_mse[index] = validation_mse\n",
    "\n"
   ]
  },
  {
   "cell_type": "code",
   "execution_count": 145,
   "metadata": {},
   "outputs": [
    {
     "data": {
      "image/png": "[encoded data removed]",
      "text/plain": [
       "<Figure size 432x288 with 1 Axes>"
      ]
     },
     "metadata": {
      "needs_background": "light"
     },
     "output_type": "display_data"
    },
    {
     "data": {
      "image/png": "[encoded data removed]",
      "text/plain": [
       "<Figure size 432x288 with 1 Axes>"
      ]
     },
     "metadata": {
      "needs_background": "light"
     },
     "output_type": "display_data"
    }
   ],
   "source": [
    "fig, ax = plt.subplots(1,1)\n",
    "\n",
    "\n",
    "ax.semilogx(all_n_neighbors, n_neighbors_validation_mse, \"r-\", lw=3, label = \"Validation\")\n",
    "\n",
    "plt.legend()\n",
    "plt.title(\"MSE vs n_neighbors\")\n",
    "plt.show()\n",
    "\n",
    "\n",
    "fig, ax = plt.subplots(1,1)\n",
    "\n",
    "\n",
    "ax.semilogx(all_n_neighbors, n_neighbors_validation_auc, \"r-\", lw=3, label = \"Validation\")\n",
    "\n",
    "plt.legend()\n",
    "plt.title(\"AUC vs n_neighbors\")\n",
    "plt.show()\n",
    "    "
   ]
  },
  {
   "cell_type": "markdown",
   "metadata": {},
   "source": [
    "n_nieghbors = around 300-400 looks good according to these graphs. Again this is using Standard Scaling and fitting/predicting on only cat features!"
   ]
  },
  {
   "cell_type": "markdown",
   "metadata": {},
   "source": [
    "## Best KNN Classifier"
   ]
  },
  {
   "cell_type": "code",
   "execution_count": 166,
   "metadata": {},
   "outputs": [
    {
     "name": "stdout",
     "output_type": "stream",
     "text": [
      "auc: 0.5719717866821525 | S mse: 0.42927705433318364\n"
     ]
    }
   ],
   "source": [
    "sklearn_knn = KNeighborsClassifier(n_neighbors=410, weights='distance')\n",
    "sklearn_knn.fit(Xtr_scaled, Ytr)\n",
    "\n",
    "Yva_hat = sklearn_knn.predict(Xva_scaled)\n",
    "\n",
    "print(f\"auc: {roc_auc_score(Yva, Yva_hat)} | S mse: {mean_squared_error(Yva, Yva_hat)}\")"
   ]
  },
  {
   "cell_type": "code",
   "execution_count": null,
   "metadata": {},
   "outputs": [],
   "source": []
  },
  {
   "cell_type": "code",
   "execution_count": null,
   "metadata": {},
   "outputs": [],
   "source": []
  }
 ],
 "metadata": {
  "kernelspec": {
   "display_name": "Python 3",
   "language": "python",
   "name": "python3"
  },
  "language_info": {
   "codemirror_mode": {
    "name": "ipython",
    "version": 3
   },
   "file_extension": ".py",
   "mimetype": "text/x-python",
   "name": "python",
   "nbconvert_exporter": "python",
   "pygments_lexer": "ipython3",
   "version": "3.8.5"
  }
 },
 "nbformat": 4,
 "nbformat_minor": 4
}
